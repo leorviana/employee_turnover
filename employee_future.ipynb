{
 "cells": [
  {
   "cell_type": "markdown",
   "id": "8e448bc7",
   "metadata": {},
   "source": [
    "# 0. Imports"
   ]
  },
  {
   "cell_type": "code",
   "execution_count": 1,
   "id": "d24d9df1",
   "metadata": {
    "ExecuteTime": {
     "end_time": "2022-01-30T19:47:14.249277Z",
     "start_time": "2022-01-30T19:47:08.797238Z"
    }
   },
   "outputs": [],
   "source": [
    "import pandas as pd\n",
    "import numpy as np\n",
    "import matplotlib.pyplot as plt\n",
    "import seaborn as sns\n",
    "from sklearn.preprocessing import OneHotEncoder, MinMaxScaler, LabelEncoder\n",
    "from sklearn.feature_selection import chi2, f_classif\n",
    "from sklearn.model_selection import train_test_split, cross_val_score, RandomizedSearchCV\n",
    "from sklearn.linear_model import LogisticRegression\n",
    "from sklearn.neighbors import KNeighborsClassifier\n",
    "from sklearn.ensemble import RandomForestClassifier, GradientBoostingClassifier\n",
    "from sklearn.metrics import balanced_accuracy_score, f1_score, recall_score, precision_score, confusion_matrix\n",
    "from imblearn.over_sampling import SVMSMOTE\n",
    "\n",
    "\n",
    "import pickle\n",
    "\n",
    "import warnings\n",
    "warnings.filterwarnings(\"ignore\")"
   ]
  },
  {
   "cell_type": "markdown",
   "id": "5a63e24b",
   "metadata": {},
   "source": [
    "## 0.0 Functions"
   ]
  },
  {
   "cell_type": "code",
   "execution_count": 2,
   "id": "e5b201c8",
   "metadata": {
    "ExecuteTime": {
     "end_time": "2022-01-30T19:47:14.280630Z",
     "start_time": "2022-01-30T19:47:14.249277Z"
    }
   },
   "outputs": [],
   "source": [
    "def model_evaluation(X_train, y_train, model, nome_modelo, folds = 5):\n",
    "\n",
    "    ac_treino = np.round(balanced_accuracy_score(y_true = y_train, y_pred = model.predict(X_train)), 2)\n",
    "    ac_cv = np.round(np.mean(cross_val_score(estimator = model, X = X_train, y = y_train, scoring = \"balanced_accuracy\", cv = folds)), 2)\n",
    "    \n",
    "    f1_treino = np.round(f1_score(y_true = y_train, y_pred = model.predict(X_train)), 2)\n",
    "    f1_cv = np.round(np.mean(cross_val_score(estimator = model, X = X_train, y = y_train, scoring = \"f1\", cv = folds)), 2)\n",
    "\n",
    "    row_evaluation = {\"Modelo\": nome_modelo, \"BalancedAc(treino)\": ac_treino, \"BalancedAc(Cross Val.)\": ac_cv, \"f1(treino)\": f1_treino, \"f1(Cross Val.)\": f1_cv}\n",
    "\n",
    "    return row_evaluation"
   ]
  },
  {
   "cell_type": "markdown",
   "id": "4b26dc10",
   "metadata": {},
   "source": [
    "## 0.1 Load data"
   ]
  },
  {
   "cell_type": "code",
   "execution_count": 3,
   "id": "341fbf95",
   "metadata": {
    "ExecuteTime": {
     "end_time": "2022-01-30T19:47:14.406837Z",
     "start_time": "2022-01-30T19:47:14.287612Z"
    }
   },
   "outputs": [
    {
     "data": {
      "text/html": [
       "<div>\n",
       "<style scoped>\n",
       "    .dataframe tbody tr th:only-of-type {\n",
       "        vertical-align: middle;\n",
       "    }\n",
       "\n",
       "    .dataframe tbody tr th {\n",
       "        vertical-align: top;\n",
       "    }\n",
       "\n",
       "    .dataframe thead th {\n",
       "        text-align: right;\n",
       "    }\n",
       "</style>\n",
       "<table border=\"1\" class=\"dataframe\">\n",
       "  <thead>\n",
       "    <tr style=\"text-align: right;\">\n",
       "      <th></th>\n",
       "      <th>Education</th>\n",
       "      <th>JoiningYear</th>\n",
       "      <th>City</th>\n",
       "      <th>PaymentTier</th>\n",
       "      <th>Age</th>\n",
       "      <th>Gender</th>\n",
       "      <th>EverBenched</th>\n",
       "      <th>ExperienceInCurrentDomain</th>\n",
       "      <th>LeaveOrNot</th>\n",
       "    </tr>\n",
       "  </thead>\n",
       "  <tbody>\n",
       "    <tr>\n",
       "      <th>0</th>\n",
       "      <td>Bachelors</td>\n",
       "      <td>2017</td>\n",
       "      <td>Bangalore</td>\n",
       "      <td>3</td>\n",
       "      <td>34</td>\n",
       "      <td>Male</td>\n",
       "      <td>No</td>\n",
       "      <td>0</td>\n",
       "      <td>0</td>\n",
       "    </tr>\n",
       "    <tr>\n",
       "      <th>1</th>\n",
       "      <td>Bachelors</td>\n",
       "      <td>2013</td>\n",
       "      <td>Pune</td>\n",
       "      <td>1</td>\n",
       "      <td>28</td>\n",
       "      <td>Female</td>\n",
       "      <td>No</td>\n",
       "      <td>3</td>\n",
       "      <td>1</td>\n",
       "    </tr>\n",
       "    <tr>\n",
       "      <th>2</th>\n",
       "      <td>Bachelors</td>\n",
       "      <td>2014</td>\n",
       "      <td>New Delhi</td>\n",
       "      <td>3</td>\n",
       "      <td>38</td>\n",
       "      <td>Female</td>\n",
       "      <td>No</td>\n",
       "      <td>2</td>\n",
       "      <td>0</td>\n",
       "    </tr>\n",
       "    <tr>\n",
       "      <th>3</th>\n",
       "      <td>Masters</td>\n",
       "      <td>2016</td>\n",
       "      <td>Bangalore</td>\n",
       "      <td>3</td>\n",
       "      <td>27</td>\n",
       "      <td>Male</td>\n",
       "      <td>No</td>\n",
       "      <td>5</td>\n",
       "      <td>1</td>\n",
       "    </tr>\n",
       "    <tr>\n",
       "      <th>4</th>\n",
       "      <td>Masters</td>\n",
       "      <td>2017</td>\n",
       "      <td>Pune</td>\n",
       "      <td>3</td>\n",
       "      <td>24</td>\n",
       "      <td>Male</td>\n",
       "      <td>Yes</td>\n",
       "      <td>2</td>\n",
       "      <td>1</td>\n",
       "    </tr>\n",
       "  </tbody>\n",
       "</table>\n",
       "</div>"
      ],
      "text/plain": [
       "   Education  JoiningYear       City  PaymentTier  Age  Gender EverBenched  \\\n",
       "0  Bachelors         2017  Bangalore            3   34    Male          No   \n",
       "1  Bachelors         2013       Pune            1   28  Female          No   \n",
       "2  Bachelors         2014  New Delhi            3   38  Female          No   \n",
       "3    Masters         2016  Bangalore            3   27    Male          No   \n",
       "4    Masters         2017       Pune            3   24    Male         Yes   \n",
       "\n",
       "   ExperienceInCurrentDomain  LeaveOrNot  \n",
       "0                          0           0  \n",
       "1                          3           1  \n",
       "2                          2           0  \n",
       "3                          5           1  \n",
       "4                          2           1  "
      ]
     },
     "execution_count": 3,
     "metadata": {},
     "output_type": "execute_result"
    }
   ],
   "source": [
    "df = pd.read_csv(\"Employee.csv\")\n",
    "df.head()"
   ]
  },
  {
   "cell_type": "markdown",
   "id": "0febc2cd",
   "metadata": {},
   "source": [
    "**Columns Description**\n",
    "\n",
    "- Education -> EDUCATION LEVEL\n",
    "- JoiningYear -> YEAR OF JOINING COMPANY\n",
    "- City -> CITY OFFICE WHERE POSTED\n",
    "- PaymentTier -> PAYMENT TIER: 1: HIGHEST 2: MID LEVEL 3:LOWEST\n",
    "- Age -> CURRENT AGE\n",
    "- Gender -> GENDER OF EMPLOYEE\n",
    "- EverBenched -> EVER KEPT OUT OF PROJECTS FOR 1 MONTH OR MORE\n",
    "- ExperienceInCurrentDomain -> EXPERIENCE IN CURRENT FIELD\n",
    "- LeaveOrNot -> WHETHER EMPLOYEE LEAVES THE COMPANY IN NEXT 2 YEARS"
   ]
  },
  {
   "cell_type": "markdown",
   "id": "2f225ba3",
   "metadata": {},
   "source": [
    "# 1. Data Description\n",
    "\n",
    "The description of the data will be carried out and also the Descriptive Statistics to describe the data.\n",
    "\n",
    "## 1.1 Data Size"
   ]
  },
  {
   "cell_type": "code",
   "execution_count": 4,
   "id": "c2972127",
   "metadata": {
    "ExecuteTime": {
     "end_time": "2022-01-30T19:47:14.469097Z",
     "start_time": "2022-01-30T19:47:14.410827Z"
    }
   },
   "outputs": [
    {
     "name": "stdout",
     "output_type": "stream",
     "text": [
      "N° linhas: 4653\n",
      "N° colunas: 9\n"
     ]
    }
   ],
   "source": [
    "print(\"N° linhas:\", df.shape[0])\n",
    "print(\"N° colunas:\", df.shape[1])"
   ]
  },
  {
   "cell_type": "markdown",
   "id": "2c04543b",
   "metadata": {},
   "source": [
    "## 1.2 Data Types"
   ]
  },
  {
   "cell_type": "code",
   "execution_count": 5,
   "id": "3964c8de",
   "metadata": {
    "ExecuteTime": {
     "end_time": "2022-01-30T19:47:14.548921Z",
     "start_time": "2022-01-30T19:47:14.472088Z"
    }
   },
   "outputs": [
    {
     "data": {
      "text/plain": [
       "Education                    object\n",
       "JoiningYear                   int64\n",
       "City                         object\n",
       "PaymentTier                   int64\n",
       "Age                           int64\n",
       "Gender                       object\n",
       "EverBenched                  object\n",
       "ExperienceInCurrentDomain     int64\n",
       "LeaveOrNot                    int64\n",
       "dtype: object"
      ]
     },
     "execution_count": 5,
     "metadata": {},
     "output_type": "execute_result"
    }
   ],
   "source": [
    "df.dtypes"
   ]
  },
  {
   "cell_type": "markdown",
   "id": "f0de4fdd",
   "metadata": {},
   "source": [
    "## 1.3 Check NaN"
   ]
  },
  {
   "cell_type": "code",
   "execution_count": 6,
   "id": "540fc820",
   "metadata": {
    "ExecuteTime": {
     "end_time": "2022-01-30T19:47:14.644733Z",
     "start_time": "2022-01-30T19:47:14.552872Z"
    }
   },
   "outputs": [
    {
     "data": {
      "text/plain": [
       "Education                    0\n",
       "JoiningYear                  0\n",
       "City                         0\n",
       "PaymentTier                  0\n",
       "Age                          0\n",
       "Gender                       0\n",
       "EverBenched                  0\n",
       "ExperienceInCurrentDomain    0\n",
       "LeaveOrNot                   0\n",
       "dtype: int64"
      ]
     },
     "execution_count": 6,
     "metadata": {},
     "output_type": "execute_result"
    }
   ],
   "source": [
    "df.isnull().sum()"
   ]
  },
  {
   "cell_type": "markdown",
   "id": "e56106c2",
   "metadata": {},
   "source": [
    "## 1.4 Descriptive Statistical"
   ]
  },
  {
   "cell_type": "code",
   "execution_count": 7,
   "id": "6c8b6f29",
   "metadata": {
    "ExecuteTime": {
     "end_time": "2022-01-30T19:47:14.772040Z",
     "start_time": "2022-01-30T19:47:14.647726Z"
    }
   },
   "outputs": [
    {
     "data": {
      "text/html": [
       "<div>\n",
       "<style scoped>\n",
       "    .dataframe tbody tr th:only-of-type {\n",
       "        vertical-align: middle;\n",
       "    }\n",
       "\n",
       "    .dataframe tbody tr th {\n",
       "        vertical-align: top;\n",
       "    }\n",
       "\n",
       "    .dataframe thead th {\n",
       "        text-align: right;\n",
       "    }\n",
       "</style>\n",
       "<table border=\"1\" class=\"dataframe\">\n",
       "  <thead>\n",
       "    <tr style=\"text-align: right;\">\n",
       "      <th></th>\n",
       "      <th>count</th>\n",
       "      <th>mean</th>\n",
       "      <th>std</th>\n",
       "      <th>min</th>\n",
       "      <th>25%</th>\n",
       "      <th>50%</th>\n",
       "      <th>75%</th>\n",
       "      <th>max</th>\n",
       "    </tr>\n",
       "  </thead>\n",
       "  <tbody>\n",
       "    <tr>\n",
       "      <th>JoiningYear</th>\n",
       "      <td>4653.0</td>\n",
       "      <td>2015.062970</td>\n",
       "      <td>1.863377</td>\n",
       "      <td>2012.0</td>\n",
       "      <td>2013.0</td>\n",
       "      <td>2015.0</td>\n",
       "      <td>2017.0</td>\n",
       "      <td>2018.0</td>\n",
       "    </tr>\n",
       "    <tr>\n",
       "      <th>PaymentTier</th>\n",
       "      <td>4653.0</td>\n",
       "      <td>2.698259</td>\n",
       "      <td>0.561435</td>\n",
       "      <td>1.0</td>\n",
       "      <td>3.0</td>\n",
       "      <td>3.0</td>\n",
       "      <td>3.0</td>\n",
       "      <td>3.0</td>\n",
       "    </tr>\n",
       "    <tr>\n",
       "      <th>Age</th>\n",
       "      <td>4653.0</td>\n",
       "      <td>29.393295</td>\n",
       "      <td>4.826087</td>\n",
       "      <td>22.0</td>\n",
       "      <td>26.0</td>\n",
       "      <td>28.0</td>\n",
       "      <td>32.0</td>\n",
       "      <td>41.0</td>\n",
       "    </tr>\n",
       "    <tr>\n",
       "      <th>ExperienceInCurrentDomain</th>\n",
       "      <td>4653.0</td>\n",
       "      <td>2.905652</td>\n",
       "      <td>1.558240</td>\n",
       "      <td>0.0</td>\n",
       "      <td>2.0</td>\n",
       "      <td>3.0</td>\n",
       "      <td>4.0</td>\n",
       "      <td>7.0</td>\n",
       "    </tr>\n",
       "    <tr>\n",
       "      <th>LeaveOrNot</th>\n",
       "      <td>4653.0</td>\n",
       "      <td>0.343864</td>\n",
       "      <td>0.475047</td>\n",
       "      <td>0.0</td>\n",
       "      <td>0.0</td>\n",
       "      <td>0.0</td>\n",
       "      <td>1.0</td>\n",
       "      <td>1.0</td>\n",
       "    </tr>\n",
       "  </tbody>\n",
       "</table>\n",
       "</div>"
      ],
      "text/plain": [
       "                            count         mean       std     min     25%  \\\n",
       "JoiningYear                4653.0  2015.062970  1.863377  2012.0  2013.0   \n",
       "PaymentTier                4653.0     2.698259  0.561435     1.0     3.0   \n",
       "Age                        4653.0    29.393295  4.826087    22.0    26.0   \n",
       "ExperienceInCurrentDomain  4653.0     2.905652  1.558240     0.0     2.0   \n",
       "LeaveOrNot                 4653.0     0.343864  0.475047     0.0     0.0   \n",
       "\n",
       "                              50%     75%     max  \n",
       "JoiningYear                2015.0  2017.0  2018.0  \n",
       "PaymentTier                   3.0     3.0     3.0  \n",
       "Age                          28.0    32.0    41.0  \n",
       "ExperienceInCurrentDomain     3.0     4.0     7.0  \n",
       "LeaveOrNot                    0.0     1.0     1.0  "
      ]
     },
     "execution_count": 7,
     "metadata": {},
     "output_type": "execute_result"
    }
   ],
   "source": [
    "df.describe().transpose()"
   ]
  },
  {
   "cell_type": "markdown",
   "id": "3636de77",
   "metadata": {},
   "source": [
    "## 1.5 Lower Case Columns\n",
    "\n",
    "To be easiest to manipulate, i will turn all columns names in lowercase."
   ]
  },
  {
   "cell_type": "code",
   "execution_count": 8,
   "id": "e0ea0b42",
   "metadata": {
    "ExecuteTime": {
     "end_time": "2022-01-30T19:47:14.819916Z",
     "start_time": "2022-01-30T19:47:14.775034Z"
    }
   },
   "outputs": [],
   "source": [
    "df.columns = df.columns.str.lower()"
   ]
  },
  {
   "cell_type": "code",
   "execution_count": 9,
   "id": "db2508db",
   "metadata": {
    "ExecuteTime": {
     "end_time": "2022-01-30T19:47:14.913387Z",
     "start_time": "2022-01-30T19:47:14.822906Z"
    }
   },
   "outputs": [
    {
     "data": {
      "text/plain": [
       "Index(['education', 'joiningyear', 'city', 'paymenttier', 'age', 'gender',\n",
       "       'everbenched', 'experienceincurrentdomain', 'leaveornot'],\n",
       "      dtype='object')"
      ]
     },
     "execution_count": 9,
     "metadata": {},
     "output_type": "execute_result"
    }
   ],
   "source": [
    "df.columns"
   ]
  },
  {
   "cell_type": "code",
   "execution_count": 10,
   "id": "46219bdc",
   "metadata": {
    "ExecuteTime": {
     "end_time": "2022-01-30T19:47:15.006379Z",
     "start_time": "2022-01-30T19:47:14.917337Z"
    }
   },
   "outputs": [],
   "source": [
    "df.columns = ['education', 'joining_year', 'city', 'payment_tier', 'age', 'gender',\n",
    "       'ever_benched', 'experience_current_domain', 'leave']"
   ]
  },
  {
   "cell_type": "markdown",
   "id": "c26e828c",
   "metadata": {},
   "source": [
    "# 2. Feature Engineering\n",
    "\n",
    "## 2.1  Feature Engineering"
   ]
  },
  {
   "cell_type": "code",
   "execution_count": 11,
   "id": "f914e379",
   "metadata": {
    "ExecuteTime": {
     "end_time": "2022-01-30T19:47:15.086312Z",
     "start_time": "2022-01-30T19:47:15.008382Z"
    }
   },
   "outputs": [],
   "source": [
    "df[\"time_employed\"] = 2018 - df.joining_year"
   ]
  },
  {
   "cell_type": "markdown",
   "id": "dd5e18a8",
   "metadata": {},
   "source": [
    "# 3. Exploratory Data Analysis\n",
    "\n",
    "In the Exploratory Data Analysis the data will be better analized and hypotheses will be raised in order to generate insights for the human resources team and also identify the correlation between variables and 'LeaveOrNot'.\n"
   ]
  },
  {
   "cell_type": "markdown",
   "id": "c3b4d628",
   "metadata": {},
   "source": [
    "## 3.1 Univariate Analysis"
   ]
  },
  {
   "cell_type": "code",
   "execution_count": 12,
   "id": "21acfd9a",
   "metadata": {
    "ExecuteTime": {
     "end_time": "2022-01-30T19:47:15.165568Z",
     "start_time": "2022-01-30T19:47:15.089274Z"
    }
   },
   "outputs": [],
   "source": [
    "num_col = [\"age\", \"experience_current_domain\", \"time_employed\"]\n",
    "cat_col = [\"education\", \"city\", \"payment_tier\", \"gender\", \"ever_benched\"]\n",
    "target_col = \"leave\""
   ]
  },
  {
   "cell_type": "markdown",
   "id": "132b8287",
   "metadata": {},
   "source": [
    "### 3.1.1 Response Variable"
   ]
  },
  {
   "cell_type": "code",
   "execution_count": 70,
   "id": "70ed5aea",
   "metadata": {
    "ExecuteTime": {
     "end_time": "2022-01-30T17:50:45.627787Z",
     "start_time": "2022-01-30T17:50:45.465092Z"
    }
   },
   "outputs": [
    {
     "data": {
      "image/png": "[encoded data removed]",
      "text/plain": [
       "<Figure size 720x360 with 1 Axes>"
      ]
     },
     "metadata": {
      "needs_background": "light"
     },
     "output_type": "display_data"
    }
   ],
   "source": [
    "plt.figure(figsize = [10,5])\n",
    "sns.countplot(df[\"leave\"])\n",
    "plt.title(\"Response Variable Distribution\", fontsize = 14)\n",
    "plt.show()"
   ]
  },
  {
   "cell_type": "code",
   "execution_count": 71,
   "id": "9c591665",
   "metadata": {
    "ExecuteTime": {
     "end_time": "2022-01-30T17:50:46.044975Z",
     "start_time": "2022-01-30T17:50:46.032424Z"
    }
   },
   "outputs": [
    {
     "data": {
      "text/plain": [
       "0    65.613583\n",
       "1    34.386417\n",
       "Name: leave, dtype: float64"
      ]
     },
     "execution_count": 71,
     "metadata": {},
     "output_type": "execute_result"
    }
   ],
   "source": [
    "(df.leave.value_counts() / df.shape[0]) * 100"
   ]
  },
  {
   "cell_type": "markdown",
   "id": "75e68aca",
   "metadata": {},
   "source": [
    "Our dataset is a little bit inmbalanced, we will deal with this later in the notebook.\n",
    "\n",
    "### 3.1.2 Numerical Variables"
   ]
  },
  {
   "cell_type": "code",
   "execution_count": 72,
   "id": "5343f742",
   "metadata": {
    "ExecuteTime": {
     "end_time": "2022-01-30T17:50:47.521937Z",
     "start_time": "2022-01-30T17:50:46.571800Z"
    }
   },
   "outputs": [
    {
     "data": {
      "image/png": "[encoded data removed]",
      "text/plain": [
       "<Figure size 1440x432 with 3 Axes>"
      ]
     },
     "metadata": {
      "needs_background": "light"
     },
     "output_type": "display_data"
    }
   ],
   "source": [
    "plt.figure(figsize = [20, 6])\n",
    "\n",
    "for i in num_col:\n",
    "    plt.subplot(1, 3, num_col.index(i) + 1)\n",
    "    sns.histplot(df[i], kde = True)\n",
    "    plt.title(i + \" - Distribution\", fontsize = 14)\n",
    "plt.show()"
   ]
  },
  {
   "cell_type": "code",
   "execution_count": 73,
   "id": "13c89604",
   "metadata": {
    "ExecuteTime": {
     "end_time": "2022-01-30T17:50:47.966333Z",
     "start_time": "2022-01-30T17:50:47.524994Z"
    }
   },
   "outputs": [
    {
     "data": {
      "image/png": "[encoded data removed]",
      "text/plain": [
       "<Figure size 1440x432 with 3 Axes>"
      ]
     },
     "metadata": {
      "needs_background": "light"
     },
     "output_type": "display_data"
    }
   ],
   "source": [
    "plt.figure(figsize = [20, 6])\n",
    "\n",
    "for i in num_col:\n",
    "    plt.subplot(1, 3, num_col.index(i) + 1)\n",
    "    plt.boxplot(df[i])\n",
    "    plt.title(i + \" - Distribution\", fontsize = 14)\n",
    "    plt.grid()\n",
    "plt.show()"
   ]
  },
  {
   "cell_type": "markdown",
   "id": "a259d410",
   "metadata": {},
   "source": [
    "### 3.1.3 Categorical Variables"
   ]
  },
  {
   "cell_type": "code",
   "execution_count": 74,
   "id": "d8bff2e7",
   "metadata": {
    "ExecuteTime": {
     "end_time": "2022-01-30T17:50:48.770793Z",
     "start_time": "2022-01-30T17:50:47.970162Z"
    }
   },
   "outputs": [
    {
     "data": {
      "image/png": "[encoded data removed]",
      "text/plain": [
       "<Figure size 1008x1296 with 5 Axes>"
      ]
     },
     "metadata": {
      "needs_background": "light"
     },
     "output_type": "display_data"
    }
   ],
   "source": [
    "plt.figure(figsize = [14, 18])\n",
    "\n",
    "for i in cat_col:\n",
    "    plt.subplot(3, 2, cat_col.index(i) + 1)\n",
    "    sns.countplot(df[i])\n",
    "    plt.title(i + \" - Distribution\", fontsize = 14)\n",
    "plt.show()"
   ]
  },
  {
   "cell_type": "markdown",
   "id": "5867afec",
   "metadata": {},
   "source": [
    "## 3.2 Bivariate Analysis\n",
    "\n",
    "Here we will analyze the relationship between the attributes and the target variable, in order to discover the characteristics of an employee who leaves the company.\n",
    "\n",
    "### 3.2.1 Numerical Variables"
   ]
  },
  {
   "cell_type": "code",
   "execution_count": 75,
   "id": "aea7dfe7",
   "metadata": {
    "ExecuteTime": {
     "end_time": "2022-01-30T17:50:49.317506Z",
     "start_time": "2022-01-30T17:50:48.818123Z"
    }
   },
   "outputs": [
    {
     "data": {
      "image/png": "[encoded data removed]",
      "text/plain": [
       "<Figure size 1440x360 with 3 Axes>"
      ]
     },
     "metadata": {
      "needs_background": "light"
     },
     "output_type": "display_data"
    }
   ],
   "source": [
    "plt.figure(figsize = [20, 5])\n",
    "for i in num_col:\n",
    "    plt.subplot(1, 3, num_col.index(i) + 1)\n",
    "    sns.boxplot(df[\"leave\"], df[i])\n",
    "    plt.title(i + \" - leave\", fontsize = 14)    \n",
    "plt.show()"
   ]
  },
  {
   "cell_type": "markdown",
   "id": "8b549aae",
   "metadata": {},
   "source": [
    "### 3.2.2 Categorical Variables"
   ]
  },
  {
   "cell_type": "code",
   "execution_count": 76,
   "id": "2bc53258",
   "metadata": {
    "ExecuteTime": {
     "end_time": "2022-01-30T17:50:50.366879Z",
     "start_time": "2022-01-30T17:50:49.488550Z"
    }
   },
   "outputs": [
    {
     "data": {
      "image/png": "[encoded data removed]",
      "text/plain": [
       "<Figure size 1008x1296 with 5 Axes>"
      ]
     },
     "metadata": {
      "needs_background": "light"
     },
     "output_type": "display_data"
    }
   ],
   "source": [
    "plt.figure(figsize = [14, 18])\n",
    "for i in cat_col:\n",
    "    plt.subplot(3, 2, cat_col.index(i) + 1)\n",
    "    sns.countplot(df[i], hue = df[\"leave\"])\n",
    "    plt.title(i + \" - leave\", fontsize = 14)    \n",
    "plt.show()"
   ]
  },
  {
   "cell_type": "markdown",
   "id": "f99a8e0c",
   "metadata": {},
   "source": [
    "## 3.3 Particulars of a employee who leave the company\n",
    "\n",
    "### P1: Employees with less time into the company\n",
    "\n",
    "Employees who left the company have an average of years in the company of 2.46 years while who doesn't left have an average of years of 3.18."
   ]
  },
  {
   "cell_type": "code",
   "execution_count": 24,
   "id": "0e6eec3d",
   "metadata": {},
   "outputs": [
    {
     "data": {
      "image/png": "[encoded data removed]",
      "text/plain": [
       "<Figure size 576x360 with 1 Axes>"
      ]
     },
     "metadata": {
      "needs_background": "light"
     },
     "output_type": "display_data"
    },
    {
     "name": "stdout",
     "output_type": "stream",
     "text": [
      "Mean - years employed - Left: 2.469375\n",
      "\n",
      "Mean - years employed - Not Left: 3.182115951523092\n"
     ]
    }
   ],
   "source": [
    "plt.figure(figsize = [8, 5])\n",
    "sns.boxplot(df[\"leave\"], df[\"time_employed\"])\n",
    "plt.grid()\n",
    "plt.show()\n",
    "\n",
    "print(\"Mean - years employed - Left:\",np.mean(df[df[\"leave\"] == 1][\"time_employed\"]))\n",
    "print()\n",
    "print(\"Mean - years employed - Not Left:\",np.mean(df[df[\"leave\"] == 0][\"time_employed\"]))"
   ]
  },
  {
   "cell_type": "markdown",
   "id": "1edfdb16",
   "metadata": {},
   "source": [
    "### P2: Employees with Master degree\n",
    "\n",
    "48,8% of the employees with Master Degree left the company."
   ]
  },
  {
   "cell_type": "code",
   "execution_count": 25,
   "id": "df67ac58",
   "metadata": {},
   "outputs": [
    {
     "data": {
      "image/png": "[encoded data removed]",
      "text/plain": [
       "<Figure size 720x360 with 1 Axes>"
      ]
     },
     "metadata": {
      "needs_background": "light"
     },
     "output_type": "display_data"
    }
   ],
   "source": [
    "plt.figure(figsize = [10,5])\n",
    "sns.countplot(df[df[\"education\"] == \"Masters\"][\"education\"], hue = df[\"leave\"], dodge = True)\n",
    "plt.show()"
   ]
  },
  {
   "cell_type": "code",
   "execution_count": 26,
   "id": "61cdadeb",
   "metadata": {},
   "outputs": [
    {
     "data": {
      "text/plain": [
       "0    51.202749\n",
       "1    48.797251\n",
       "Name: leave, dtype: float64"
      ]
     },
     "execution_count": 26,
     "metadata": {},
     "output_type": "execute_result"
    }
   ],
   "source": [
    "(df[df[\"education\"] == \"Masters\"][\"leave\"].value_counts() / df[df[\"education\"] == \"Masters\"].shape[0]) * 100"
   ]
  },
  {
   "cell_type": "markdown",
   "id": "ef235af9",
   "metadata": {},
   "source": [
    "### P3: Employees from Pune\n",
    "\n",
    "50,4% of the employees from Pune left the company."
   ]
  },
  {
   "cell_type": "code",
   "execution_count": 27,
   "id": "15fc0b1b",
   "metadata": {},
   "outputs": [
    {
     "data": {
      "image/png": "[encoded data removed]",
      "text/plain": [
       "<Figure size 720x360 with 1 Axes>"
      ]
     },
     "metadata": {
      "needs_background": "light"
     },
     "output_type": "display_data"
    }
   ],
   "source": [
    "plt.figure(figsize = [10,5])\n",
    "sns.countplot(df[df[\"city\"] == \"Pune\"][\"city\"], hue = df[\"leave\"], dodge = True)\n",
    "plt.show()"
   ]
  },
  {
   "cell_type": "code",
   "execution_count": 28,
   "id": "2a1801be",
   "metadata": {},
   "outputs": [
    {
     "data": {
      "text/plain": [
       "1    50.394322\n",
       "0    49.605678\n",
       "Name: leave, dtype: float64"
      ]
     },
     "execution_count": 28,
     "metadata": {},
     "output_type": "execute_result"
    }
   ],
   "source": [
    "(df[df[\"city\"] == \"Pune\"][\"leave\"].value_counts() / df[df[\"city\"] == \"Pune\"].shape[0]) * 100"
   ]
  },
  {
   "cell_type": "markdown",
   "id": "ef11a028",
   "metadata": {},
   "source": [
    "### P4: Employees with median level payment\n",
    "\n",
    "59,9% of the employees with median level payment left the company."
   ]
  },
  {
   "cell_type": "code",
   "execution_count": 29,
   "id": "a38df9be",
   "metadata": {},
   "outputs": [
    {
     "data": {
      "image/png": "[encoded data removed]",
      "text/plain": [
       "<Figure size 720x360 with 1 Axes>"
      ]
     },
     "metadata": {
      "needs_background": "light"
     },
     "output_type": "display_data"
    }
   ],
   "source": [
    "plt.figure(figsize = [10,5])\n",
    "sns.countplot(df[df[\"payment_tier\"] == 2][\"payment_tier\"], hue = df[\"leave\"], dodge = True)\n",
    "plt.show()"
   ]
  },
  {
   "cell_type": "code",
   "execution_count": 30,
   "id": "23c24df7",
   "metadata": {},
   "outputs": [
    {
     "data": {
      "text/plain": [
       "1    59.912854\n",
       "0    40.087146\n",
       "Name: leave, dtype: float64"
      ]
     },
     "execution_count": 30,
     "metadata": {},
     "output_type": "execute_result"
    }
   ],
   "source": [
    "(df[df[\"payment_tier\"] == 2][\"leave\"].value_counts() / df[df[\"payment_tier\"] == 2].shape[0]) * 100"
   ]
  },
  {
   "cell_type": "markdown",
   "id": "3e8af388",
   "metadata": {},
   "source": [
    "### P5: Female employees\n",
    "\n",
    "47% of the  female employees left the company."
   ]
  },
  {
   "cell_type": "code",
   "execution_count": 31,
   "id": "30738d7c",
   "metadata": {},
   "outputs": [
    {
     "data": {
      "image/png": "[encoded data removed]",
      "text/plain": [
       "<Figure size 720x360 with 1 Axes>"
      ]
     },
     "metadata": {
      "needs_background": "light"
     },
     "output_type": "display_data"
    }
   ],
   "source": [
    "plt.figure(figsize = [10,5])\n",
    "sns.countplot(df[df[\"gender\"] == \"Female\"][\"gender\"], hue = df[\"leave\"], dodge = True)\n",
    "plt.show()"
   ]
  },
  {
   "cell_type": "code",
   "execution_count": 32,
   "id": "314a286f",
   "metadata": {},
   "outputs": [
    {
     "data": {
      "text/plain": [
       "0    52.853333\n",
       "1    47.146667\n",
       "Name: leave, dtype: float64"
      ]
     },
     "execution_count": 32,
     "metadata": {},
     "output_type": "execute_result"
    }
   ],
   "source": [
    "(df[df[\"gender\"] == \"Female\"][\"leave\"].value_counts() / df[df[\"gender\"] == \"Female\"].shape[0]) * 100"
   ]
  },
  {
   "cell_type": "markdown",
   "id": "ae67306c",
   "metadata": {},
   "source": [
    "### P6: Employees who ever benched\n",
    "\n",
    "45,4% of the employees who ever benched left the company."
   ]
  },
  {
   "cell_type": "code",
   "execution_count": 33,
   "id": "8cdb8fe1",
   "metadata": {},
   "outputs": [
    {
     "data": {
      "image/png": "[encoded data removed]",
      "text/plain": [
       "<Figure size 720x360 with 1 Axes>"
      ]
     },
     "metadata": {
      "needs_background": "light"
     },
     "output_type": "display_data"
    }
   ],
   "source": [
    "plt.figure(figsize = [10,5])\n",
    "sns.countplot(df[df[\"ever_benched\"] == \"Yes\"][\"ever_benched\"], hue = df[\"leave\"], dodge = True)\n",
    "plt.show()"
   ]
  },
  {
   "cell_type": "code",
   "execution_count": 34,
   "id": "b2344ab4",
   "metadata": {},
   "outputs": [
    {
     "data": {
      "text/plain": [
       "0    54.60251\n",
       "1    45.39749\n",
       "Name: leave, dtype: float64"
      ]
     },
     "execution_count": 34,
     "metadata": {},
     "output_type": "execute_result"
    }
   ],
   "source": [
    "(df[df[\"ever_benched\"] == \"Yes\"][\"leave\"].value_counts() / df[df[\"ever_benched\"] == \"Yes\"].shape[0]) * 100"
   ]
  },
  {
   "cell_type": "markdown",
   "id": "a61f6ac8",
   "metadata": {},
   "source": [
    "# 4. Machine Learning"
   ]
  },
  {
   "cell_type": "markdown",
   "id": "9fac92c2",
   "metadata": {},
   "source": [
    "## 4.1 Pre-processing"
   ]
  },
  {
   "cell_type": "code",
   "execution_count": 31,
   "id": "e4e3f733",
   "metadata": {
    "ExecuteTime": {
     "end_time": "2022-01-30T21:45:39.834604Z",
     "start_time": "2022-01-30T21:45:39.761430Z"
    }
   },
   "outputs": [],
   "source": [
    "df2 = df.copy()"
   ]
  },
  {
   "cell_type": "markdown",
   "id": "44b1987f",
   "metadata": {},
   "source": [
    "#### Removing joining_year column"
   ]
  },
  {
   "cell_type": "code",
   "execution_count": 32,
   "id": "e48feeeb",
   "metadata": {
    "ExecuteTime": {
     "end_time": "2022-01-30T21:45:41.429209Z",
     "start_time": "2022-01-30T21:45:41.336008Z"
    }
   },
   "outputs": [],
   "source": [
    "df2 = df.drop(\"joining_year\", axis = 1)"
   ]
  },
  {
   "cell_type": "markdown",
   "id": "4f951877",
   "metadata": {},
   "source": [
    "### Feature Selection\n",
    "\n",
    "We will use some statistical tests to confirm the hypotheses generated by the bivariate analysis, discover new relationships and select the best variables for the model.\n",
    "\n",
    "#### Chi² for categorical features"
   ]
  },
  {
   "cell_type": "code",
   "execution_count": 15,
   "id": "e1d1f7fd",
   "metadata": {
    "ExecuteTime": {
     "end_time": "2022-01-30T19:47:24.757518Z",
     "start_time": "2022-01-30T19:47:24.638278Z"
    },
    "scrolled": true
   },
   "outputs": [
    {
     "data": {
      "text/html": [
       "<div>\n",
       "<style scoped>\n",
       "    .dataframe tbody tr th:only-of-type {\n",
       "        vertical-align: middle;\n",
       "    }\n",
       "\n",
       "    .dataframe tbody tr th {\n",
       "        vertical-align: top;\n",
       "    }\n",
       "\n",
       "    .dataframe thead th {\n",
       "        text-align: right;\n",
       "    }\n",
       "</style>\n",
       "<table border=\"1\" class=\"dataframe\">\n",
       "  <thead>\n",
       "    <tr style=\"text-align: right;\">\n",
       "      <th></th>\n",
       "      <th>feature</th>\n",
       "      <th>chi2</th>\n",
       "      <th>p-value</th>\n",
       "    </tr>\n",
       "  </thead>\n",
       "  <tbody>\n",
       "    <tr>\n",
       "      <th>0</th>\n",
       "      <td>education</td>\n",
       "      <td>[30.94]</td>\n",
       "      <td>[0.0]</td>\n",
       "    </tr>\n",
       "    <tr>\n",
       "      <th>1</th>\n",
       "      <td>city</td>\n",
       "      <td>[167.97]</td>\n",
       "      <td>[0.0]</td>\n",
       "    </tr>\n",
       "    <tr>\n",
       "      <th>2</th>\n",
       "      <td>payment_tier</td>\n",
       "      <td>[33.73]</td>\n",
       "      <td>[0.0]</td>\n",
       "    </tr>\n",
       "    <tr>\n",
       "      <th>3</th>\n",
       "      <td>gender</td>\n",
       "      <td>[91.33]</td>\n",
       "      <td>[0.0]</td>\n",
       "    </tr>\n",
       "    <tr>\n",
       "      <th>4</th>\n",
       "      <td>ever_benched</td>\n",
       "      <td>[25.69]</td>\n",
       "      <td>[0.0]</td>\n",
       "    </tr>\n",
       "  </tbody>\n",
       "</table>\n",
       "</div>"
      ],
      "text/plain": [
       "        feature      chi2 p-value\n",
       "0     education   [30.94]   [0.0]\n",
       "1          city  [167.97]   [0.0]\n",
       "2  payment_tier   [33.73]   [0.0]\n",
       "3        gender   [91.33]   [0.0]\n",
       "4  ever_benched   [25.69]   [0.0]"
      ]
     },
     "execution_count": 15,
     "metadata": {},
     "output_type": "execute_result"
    }
   ],
   "source": [
    "df_temp = df2.copy()\n",
    "\n",
    "for i in cat_col:\n",
    "    le = LabelEncoder()\n",
    "    df_temp[i] = le.fit_transform(df_temp[i].values.reshape(-1, 1))\n",
    "\n",
    "df_chi2 = pd.DataFrame(columns = [\"feature\", \"chi2\", \"p-value\"])\n",
    "for i in cat_col:\n",
    "    row = {\"feature\":i, \"chi2\": np.round(chi2(df_temp[i].values.reshape(-1, 1), df_temp[\"leave\"].values.reshape(-1, 1))[0], 2), \\\n",
    "           \"p-value\":np.round(chi2(df_temp[i].values.reshape(-1, 1), df_temp[\"leave\"].values.reshape(-1, 1))[1], 4)}\n",
    "    \n",
    "    df_chi2 = df_chi2.append(row, ignore_index = True)\n",
    "    \n",
    "df_chi2"
   ]
  },
  {
   "cell_type": "markdown",
   "id": "3600b8b5",
   "metadata": {},
   "source": [
    "#### ANOVA for numerical features"
   ]
  },
  {
   "cell_type": "code",
   "execution_count": 16,
   "id": "cc6a087b",
   "metadata": {
    "ExecuteTime": {
     "end_time": "2022-01-30T19:47:25.458193Z",
     "start_time": "2022-01-30T19:47:25.406332Z"
    }
   },
   "outputs": [
    {
     "data": {
      "text/html": [
       "<div>\n",
       "<style scoped>\n",
       "    .dataframe tbody tr th:only-of-type {\n",
       "        vertical-align: middle;\n",
       "    }\n",
       "\n",
       "    .dataframe tbody tr th {\n",
       "        vertical-align: top;\n",
       "    }\n",
       "\n",
       "    .dataframe thead th {\n",
       "        text-align: right;\n",
       "    }\n",
       "</style>\n",
       "<table border=\"1\" class=\"dataframe\">\n",
       "  <thead>\n",
       "    <tr style=\"text-align: right;\">\n",
       "      <th></th>\n",
       "      <th>feature</th>\n",
       "      <th>f-value</th>\n",
       "      <th>p-value</th>\n",
       "    </tr>\n",
       "  </thead>\n",
       "  <tbody>\n",
       "    <tr>\n",
       "      <th>0</th>\n",
       "      <td>age</td>\n",
       "      <td>[12.19]</td>\n",
       "      <td>[0.0005]</td>\n",
       "    </tr>\n",
       "    <tr>\n",
       "      <th>1</th>\n",
       "      <td>experience_current_domain</td>\n",
       "      <td>[4.33]</td>\n",
       "      <td>[0.0375]</td>\n",
       "    </tr>\n",
       "    <tr>\n",
       "      <th>2</th>\n",
       "      <td>time_employed</td>\n",
       "      <td>[158.8]</td>\n",
       "      <td>[0.0]</td>\n",
       "    </tr>\n",
       "  </tbody>\n",
       "</table>\n",
       "</div>"
      ],
      "text/plain": [
       "                     feature  f-value   p-value\n",
       "0                        age  [12.19]  [0.0005]\n",
       "1  experience_current_domain   [4.33]  [0.0375]\n",
       "2              time_employed  [158.8]     [0.0]"
      ]
     },
     "execution_count": 16,
     "metadata": {},
     "output_type": "execute_result"
    }
   ],
   "source": [
    "df_anova = pd.DataFrame(columns = [\"feature\", \"f-value\", \"p-value\"])\n",
    "for i in num_col:\n",
    "    row = {\"feature\":i, \"f-value\": np.round(f_classif(df_temp[i].values.reshape(-1, 1), df_temp[\"leave\"].values.reshape(-1, 1))[0], 2), \\\n",
    "           \"p-value\":np.round(f_classif(df_temp[i].values.reshape(-1, 1), df_temp[\"leave\"].values.reshape(-1, 1))[1], 4)}\n",
    "    \n",
    "    df_anova = df_anova.append(row, ignore_index = True)\n",
    "    \n",
    "df_anova"
   ]
  },
  {
   "cell_type": "markdown",
   "id": "b4ecde3f",
   "metadata": {},
   "source": [
    "Whe can se that the only column with no significance for our problem is the experience_current_domain."
   ]
  },
  {
   "cell_type": "code",
   "execution_count": 33,
   "id": "98abfaf5",
   "metadata": {
    "ExecuteTime": {
     "end_time": "2022-01-30T21:45:46.038052Z",
     "start_time": "2022-01-30T21:45:45.934406Z"
    }
   },
   "outputs": [],
   "source": [
    "df2 = df2.drop([\"experience_current_domain\"], axis = 1)"
   ]
  },
  {
   "cell_type": "markdown",
   "id": "5163055d",
   "metadata": {},
   "source": [
    "### One Hot Encoding\n",
    "\n",
    "Transforming categorical columns to binary columns."
   ]
  },
  {
   "cell_type": "code",
   "execution_count": 34,
   "id": "8596fdd5",
   "metadata": {
    "ExecuteTime": {
     "end_time": "2022-01-30T21:45:47.905500Z",
     "start_time": "2022-01-30T21:45:47.658722Z"
    }
   },
   "outputs": [],
   "source": [
    "df2.gender = df2.gender.replace({\"Male\":0, \"Female\":1})\n",
    "df2.ever_benched = df2.ever_benched.replace({\"No\":0, \"Yes\":1})\n",
    "\n",
    "ohe = OneHotEncoder()\n",
    "df_temp = pd.DataFrame(ohe.fit_transform(df2[\"city\"].values.reshape(-1,1)).toarray(), columns = [\"city_\" + str(x) for x in ohe.categories_[0]])\n",
    "df2 = pd.concat([df2, df_temp], axis = 1)\n",
    "df2 = df2.drop(\"city\", axis = 1)"
   ]
  },
  {
   "cell_type": "markdown",
   "id": "9b0447b3",
   "metadata": {},
   "source": [
    "### Label Encoder\n",
    "\n",
    "Some categorical columns like education and payment_tier are ordinal, that means that the order of the values have importance. In this cases whe will use Label Encoder."
   ]
  },
  {
   "cell_type": "code",
   "execution_count": 35,
   "id": "1af1b54e",
   "metadata": {
    "ExecuteTime": {
     "end_time": "2022-01-30T21:45:50.490425Z",
     "start_time": "2022-01-30T21:45:50.480452Z"
    },
    "code_folding": []
   },
   "outputs": [],
   "source": [
    "le = LabelEncoder()\n",
    "df2[\"education\"] = le.fit_transform(df2[\"education\"].values.reshape(-1, 1))"
   ]
  },
  {
   "cell_type": "markdown",
   "id": "7802e9b7",
   "metadata": {},
   "source": [
    "### Normalizing\n",
    "\n",
    "Whe have to put all the values in the same scale, because some ml models work with distance and if the values among columns have scales to much diferent, the model may give more importance to this columns."
   ]
  },
  {
   "cell_type": "code",
   "execution_count": 36,
   "id": "13a2061a",
   "metadata": {
    "ExecuteTime": {
     "end_time": "2022-01-30T21:45:55.131422Z",
     "start_time": "2022-01-30T21:45:55.125438Z"
    }
   },
   "outputs": [],
   "source": [
    "var_minmax = [\"education\", \"payment_tier\", \"age\", \"time_employed\"]"
   ]
  },
  {
   "cell_type": "code",
   "execution_count": 37,
   "id": "ff301e01",
   "metadata": {
    "ExecuteTime": {
     "end_time": "2022-01-30T21:45:56.288532Z",
     "start_time": "2022-01-30T21:45:56.261565Z"
    }
   },
   "outputs": [],
   "source": [
    "for i in var_minmax:\n",
    "    mm_scaler = MinMaxScaler()\n",
    "    df2[i] = mm_scaler.fit_transform(df2[i].values.reshape(-1, 1))\n",
    "    \n",
    "    #Exporting one at one for using in production\n",
    "    pickle.dump(mm_scaler, open(str(i) + \"_encoder.pkl\", \"wb\"))"
   ]
  },
  {
   "cell_type": "code",
   "execution_count": 40,
   "id": "e39fa60e",
   "metadata": {
    "ExecuteTime": {
     "end_time": "2022-01-30T22:08:35.652247Z",
     "start_time": "2022-01-30T22:08:35.622329Z"
    }
   },
   "outputs": [
    {
     "data": {
      "text/html": [
       "<div>\n",
       "<style scoped>\n",
       "    .dataframe tbody tr th:only-of-type {\n",
       "        vertical-align: middle;\n",
       "    }\n",
       "\n",
       "    .dataframe tbody tr th {\n",
       "        vertical-align: top;\n",
       "    }\n",
       "\n",
       "    .dataframe thead th {\n",
       "        text-align: right;\n",
       "    }\n",
       "</style>\n",
       "<table border=\"1\" class=\"dataframe\">\n",
       "  <thead>\n",
       "    <tr style=\"text-align: right;\">\n",
       "      <th></th>\n",
       "      <th>education</th>\n",
       "      <th>payment_tier</th>\n",
       "      <th>age</th>\n",
       "      <th>gender</th>\n",
       "      <th>ever_benched</th>\n",
       "      <th>leave</th>\n",
       "      <th>time_employed</th>\n",
       "      <th>city_Bangalore</th>\n",
       "      <th>city_New Delhi</th>\n",
       "      <th>city_Pune</th>\n",
       "    </tr>\n",
       "  </thead>\n",
       "  <tbody>\n",
       "    <tr>\n",
       "      <th>0</th>\n",
       "      <td>0.0</td>\n",
       "      <td>1.0</td>\n",
       "      <td>0.631579</td>\n",
       "      <td>0</td>\n",
       "      <td>0</td>\n",
       "      <td>0</td>\n",
       "      <td>0.166667</td>\n",
       "      <td>1.0</td>\n",
       "      <td>0.0</td>\n",
       "      <td>0.0</td>\n",
       "    </tr>\n",
       "    <tr>\n",
       "      <th>1</th>\n",
       "      <td>0.0</td>\n",
       "      <td>0.0</td>\n",
       "      <td>0.315789</td>\n",
       "      <td>1</td>\n",
       "      <td>0</td>\n",
       "      <td>1</td>\n",
       "      <td>0.833333</td>\n",
       "      <td>0.0</td>\n",
       "      <td>0.0</td>\n",
       "      <td>1.0</td>\n",
       "    </tr>\n",
       "    <tr>\n",
       "      <th>2</th>\n",
       "      <td>0.0</td>\n",
       "      <td>1.0</td>\n",
       "      <td>0.842105</td>\n",
       "      <td>1</td>\n",
       "      <td>0</td>\n",
       "      <td>0</td>\n",
       "      <td>0.666667</td>\n",
       "      <td>0.0</td>\n",
       "      <td>1.0</td>\n",
       "      <td>0.0</td>\n",
       "    </tr>\n",
       "    <tr>\n",
       "      <th>3</th>\n",
       "      <td>0.5</td>\n",
       "      <td>1.0</td>\n",
       "      <td>0.263158</td>\n",
       "      <td>0</td>\n",
       "      <td>0</td>\n",
       "      <td>1</td>\n",
       "      <td>0.333333</td>\n",
       "      <td>1.0</td>\n",
       "      <td>0.0</td>\n",
       "      <td>0.0</td>\n",
       "    </tr>\n",
       "    <tr>\n",
       "      <th>4</th>\n",
       "      <td>0.5</td>\n",
       "      <td>1.0</td>\n",
       "      <td>0.105263</td>\n",
       "      <td>0</td>\n",
       "      <td>1</td>\n",
       "      <td>1</td>\n",
       "      <td>0.166667</td>\n",
       "      <td>0.0</td>\n",
       "      <td>0.0</td>\n",
       "      <td>1.0</td>\n",
       "    </tr>\n",
       "  </tbody>\n",
       "</table>\n",
       "</div>"
      ],
      "text/plain": [
       "   education  payment_tier       age  gender  ever_benched  leave  \\\n",
       "0        0.0           1.0  0.631579       0             0      0   \n",
       "1        0.0           0.0  0.315789       1             0      1   \n",
       "2        0.0           1.0  0.842105       1             0      0   \n",
       "3        0.5           1.0  0.263158       0             0      1   \n",
       "4        0.5           1.0  0.105263       0             1      1   \n",
       "\n",
       "   time_employed  city_Bangalore  city_New Delhi  city_Pune  \n",
       "0       0.166667             1.0             0.0        0.0  \n",
       "1       0.833333             0.0             0.0        1.0  \n",
       "2       0.666667             0.0             1.0        0.0  \n",
       "3       0.333333             1.0             0.0        0.0  \n",
       "4       0.166667             0.0             0.0        1.0  "
      ]
     },
     "execution_count": 40,
     "metadata": {},
     "output_type": "execute_result"
    }
   ],
   "source": [
    "df2.head()"
   ]
  },
  {
   "cell_type": "code",
   "execution_count": 41,
   "id": "9e301457",
   "metadata": {
    "ExecuteTime": {
     "end_time": "2022-01-30T22:08:39.522078Z",
     "start_time": "2022-01-30T22:08:39.492162Z"
    }
   },
   "outputs": [
    {
     "data": {
      "text/html": [
       "<div>\n",
       "<style scoped>\n",
       "    .dataframe tbody tr th:only-of-type {\n",
       "        vertical-align: middle;\n",
       "    }\n",
       "\n",
       "    .dataframe tbody tr th {\n",
       "        vertical-align: top;\n",
       "    }\n",
       "\n",
       "    .dataframe thead th {\n",
       "        text-align: right;\n",
       "    }\n",
       "</style>\n",
       "<table border=\"1\" class=\"dataframe\">\n",
       "  <thead>\n",
       "    <tr style=\"text-align: right;\">\n",
       "      <th></th>\n",
       "      <th>education</th>\n",
       "      <th>joining_year</th>\n",
       "      <th>city</th>\n",
       "      <th>payment_tier</th>\n",
       "      <th>age</th>\n",
       "      <th>gender</th>\n",
       "      <th>ever_benched</th>\n",
       "      <th>experience_current_domain</th>\n",
       "      <th>leave</th>\n",
       "      <th>time_employed</th>\n",
       "    </tr>\n",
       "  </thead>\n",
       "  <tbody>\n",
       "    <tr>\n",
       "      <th>0</th>\n",
       "      <td>Bachelors</td>\n",
       "      <td>2017</td>\n",
       "      <td>Bangalore</td>\n",
       "      <td>3</td>\n",
       "      <td>34</td>\n",
       "      <td>Male</td>\n",
       "      <td>No</td>\n",
       "      <td>0</td>\n",
       "      <td>0</td>\n",
       "      <td>1</td>\n",
       "    </tr>\n",
       "    <tr>\n",
       "      <th>1</th>\n",
       "      <td>Bachelors</td>\n",
       "      <td>2013</td>\n",
       "      <td>Pune</td>\n",
       "      <td>1</td>\n",
       "      <td>28</td>\n",
       "      <td>Female</td>\n",
       "      <td>No</td>\n",
       "      <td>3</td>\n",
       "      <td>1</td>\n",
       "      <td>5</td>\n",
       "    </tr>\n",
       "    <tr>\n",
       "      <th>2</th>\n",
       "      <td>Bachelors</td>\n",
       "      <td>2014</td>\n",
       "      <td>New Delhi</td>\n",
       "      <td>3</td>\n",
       "      <td>38</td>\n",
       "      <td>Female</td>\n",
       "      <td>No</td>\n",
       "      <td>2</td>\n",
       "      <td>0</td>\n",
       "      <td>4</td>\n",
       "    </tr>\n",
       "    <tr>\n",
       "      <th>3</th>\n",
       "      <td>Masters</td>\n",
       "      <td>2016</td>\n",
       "      <td>Bangalore</td>\n",
       "      <td>3</td>\n",
       "      <td>27</td>\n",
       "      <td>Male</td>\n",
       "      <td>No</td>\n",
       "      <td>5</td>\n",
       "      <td>1</td>\n",
       "      <td>2</td>\n",
       "    </tr>\n",
       "    <tr>\n",
       "      <th>4</th>\n",
       "      <td>Masters</td>\n",
       "      <td>2017</td>\n",
       "      <td>Pune</td>\n",
       "      <td>3</td>\n",
       "      <td>24</td>\n",
       "      <td>Male</td>\n",
       "      <td>Yes</td>\n",
       "      <td>2</td>\n",
       "      <td>1</td>\n",
       "      <td>1</td>\n",
       "    </tr>\n",
       "  </tbody>\n",
       "</table>\n",
       "</div>"
      ],
      "text/plain": [
       "   education  joining_year       city  payment_tier  age  gender ever_benched  \\\n",
       "0  Bachelors          2017  Bangalore             3   34    Male           No   \n",
       "1  Bachelors          2013       Pune             1   28  Female           No   \n",
       "2  Bachelors          2014  New Delhi             3   38  Female           No   \n",
       "3    Masters          2016  Bangalore             3   27    Male           No   \n",
       "4    Masters          2017       Pune             3   24    Male          Yes   \n",
       "\n",
       "   experience_current_domain  leave  time_employed  \n",
       "0                          0      0              1  \n",
       "1                          3      1              5  \n",
       "2                          2      0              4  \n",
       "3                          5      1              2  \n",
       "4                          2      1              1  "
      ]
     },
     "execution_count": 41,
     "metadata": {},
     "output_type": "execute_result"
    }
   ],
   "source": [
    "df.head()"
   ]
  },
  {
   "cell_type": "code",
   "execution_count": 45,
   "id": "f0457d61",
   "metadata": {
    "ExecuteTime": {
     "end_time": "2022-01-30T22:14:57.676037Z",
     "start_time": "2022-01-30T22:14:57.660376Z"
    }
   },
   "outputs": [
    {
     "data": {
      "text/plain": [
       "array([22, 23, 24, 25, 26, 27, 28, 29, 30, 31, 32, 33, 34, 35, 36, 37, 38,\n",
       "       39, 40, 41], dtype=int64)"
      ]
     },
     "execution_count": 45,
     "metadata": {},
     "output_type": "execute_result"
    }
   ],
   "source": [
    "np.sort(df.age.unique())"
   ]
  },
  {
   "cell_type": "markdown",
   "id": "254e1df5",
   "metadata": {},
   "source": [
    "### Dividing train / test\n",
    "\n",
    "Spliting the dataset in train and test."
   ]
  },
  {
   "cell_type": "code",
   "execution_count": 22,
   "id": "e86b173d",
   "metadata": {
    "ExecuteTime": {
     "end_time": "2022-01-30T19:47:32.254732Z",
     "start_time": "2022-01-30T19:47:32.232791Z"
    }
   },
   "outputs": [],
   "source": [
    "X = df2.drop(\"leave\", axis = 1)\n",
    "y = df2[\"leave\"]\n",
    "\n",
    "Xtrain, Xtest, ytrain, ytest = train_test_split(X, y, test_size = 0.20, random_state = 11, stratify=y)"
   ]
  },
  {
   "cell_type": "markdown",
   "id": "bcc09e33",
   "metadata": {},
   "source": [
    "## 4.2 Modeling"
   ]
  },
  {
   "cell_type": "markdown",
   "id": "73c80548",
   "metadata": {},
   "source": [
    "### LogisticRegression"
   ]
  },
  {
   "cell_type": "code",
   "execution_count": 90,
   "id": "fe4c21ec",
   "metadata": {
    "ExecuteTime": {
     "end_time": "2022-01-30T17:51:45.629653Z",
     "start_time": "2022-01-30T17:51:45.591776Z"
    }
   },
   "outputs": [
    {
     "data": {
      "text/plain": [
       "LogisticRegression(class_weight='balanced')"
      ]
     },
     "execution_count": 90,
     "metadata": {},
     "output_type": "execute_result"
    }
   ],
   "source": [
    "logreg = LogisticRegression(class_weight=\"balanced\")\n",
    "logreg.fit(Xtrain, ytrain)"
   ]
  },
  {
   "cell_type": "code",
   "execution_count": 91,
   "id": "61d6f724",
   "metadata": {
    "ExecuteTime": {
     "end_time": "2022-01-30T17:52:09.325243Z",
     "start_time": "2022-01-30T17:52:08.896904Z"
    }
   },
   "outputs": [
    {
     "data": {
      "text/plain": [
       "{'Modelo': 'Log.Regression',\n",
       " 'BalancedAc(treino)': 0.67,\n",
       " 'BalancedAc(Cross Val.)': 0.66,\n",
       " 'f1(treino)': 0.57,\n",
       " 'f1(Cross Val.)': 0.57}"
      ]
     },
     "execution_count": 91,
     "metadata": {},
     "output_type": "execute_result"
    }
   ],
   "source": [
    "model1_row = model_evaluation(Xtrain, ytrain, logreg, \"Log.Regression\")\n",
    "\n",
    "model1_row"
   ]
  },
  {
   "cell_type": "markdown",
   "id": "66521b65",
   "metadata": {},
   "source": [
    "### KNeighbors"
   ]
  },
  {
   "cell_type": "code",
   "execution_count": 92,
   "id": "436a845c",
   "metadata": {
    "ExecuteTime": {
     "end_time": "2022-01-30T17:52:39.077100Z",
     "start_time": "2022-01-30T17:52:39.036157Z"
    }
   },
   "outputs": [
    {
     "data": {
      "text/plain": [
       "KNeighborsClassifier(n_neighbors=7)"
      ]
     },
     "execution_count": 92,
     "metadata": {},
     "output_type": "execute_result"
    }
   ],
   "source": [
    "knn = KNeighborsClassifier(n_neighbors = 7)\n",
    "knn.fit(Xtrain, ytrain)"
   ]
  },
  {
   "cell_type": "code",
   "execution_count": 94,
   "id": "e8cb6ada",
   "metadata": {
    "ExecuteTime": {
     "end_time": "2022-01-30T17:52:54.966941Z",
     "start_time": "2022-01-30T17:52:53.521749Z"
    }
   },
   "outputs": [
    {
     "data": {
      "text/plain": [
       "{'Modelo': 'Knn',\n",
       " 'BalancedAc(treino)': 0.81,\n",
       " 'BalancedAc(Cross Val.)': 0.77,\n",
       " 'f1(treino)': 0.76,\n",
       " 'f1(Cross Val.)': 0.7}"
      ]
     },
     "execution_count": 94,
     "metadata": {},
     "output_type": "execute_result"
    }
   ],
   "source": [
    "model2_row = model_evaluation(Xtrain, ytrain, knn, \"Knn\")\n",
    "model2_row"
   ]
  },
  {
   "cell_type": "markdown",
   "id": "5ab5060f",
   "metadata": {},
   "source": [
    "### RandomForest"
   ]
  },
  {
   "cell_type": "code",
   "execution_count": 95,
   "id": "cbb86762",
   "metadata": {
    "ExecuteTime": {
     "end_time": "2022-01-30T17:53:22.689662Z",
     "start_time": "2022-01-30T17:53:22.246428Z"
    }
   },
   "outputs": [
    {
     "data": {
      "text/plain": [
       "RandomForestClassifier(class_weight='balanced', min_samples_leaf=8)"
      ]
     },
     "execution_count": 95,
     "metadata": {},
     "output_type": "execute_result"
    }
   ],
   "source": [
    "forest = RandomForestClassifier(class_weight = \"balanced\", min_samples_leaf = 8 )\n",
    "forest.fit(Xtrain, ytrain)"
   ]
  },
  {
   "cell_type": "code",
   "execution_count": 96,
   "id": "ec2f3cc6",
   "metadata": {
    "ExecuteTime": {
     "end_time": "2022-01-30T17:53:31.649352Z",
     "start_time": "2022-01-30T17:53:26.924759Z"
    }
   },
   "outputs": [
    {
     "data": {
      "text/plain": [
       "{'Modelo': 'RandomForest',\n",
       " 'BalancedAc(treino)': 0.82,\n",
       " 'BalancedAc(Cross Val.)': 0.81,\n",
       " 'f1(treino)': 0.78,\n",
       " 'f1(Cross Val.)': 0.75}"
      ]
     },
     "execution_count": 96,
     "metadata": {},
     "output_type": "execute_result"
    }
   ],
   "source": [
    "model3_row = model_evaluation(Xtrain, ytrain, forest, \"RandomForest\")\n",
    "model3_row"
   ]
  },
  {
   "cell_type": "markdown",
   "id": "b654752c",
   "metadata": {},
   "source": [
    "### Gradient Boosting"
   ]
  },
  {
   "cell_type": "code",
   "execution_count": 99,
   "id": "a5baecd8",
   "metadata": {
    "ExecuteTime": {
     "end_time": "2022-01-30T17:54:08.702716Z",
     "start_time": "2022-01-30T17:54:08.335797Z"
    }
   },
   "outputs": [
    {
     "data": {
      "text/plain": [
       "GradientBoostingClassifier(learning_rate=0.2, min_samples_leaf=8, subsample=0.8)"
      ]
     },
     "execution_count": 99,
     "metadata": {},
     "output_type": "execute_result"
    }
   ],
   "source": [
    "gb = GradientBoostingClassifier(subsample=0.8, min_samples_leaf = 8, learning_rate = 0.2)\n",
    "gb.fit(Xtrain, ytrain)"
   ]
  },
  {
   "cell_type": "code",
   "execution_count": 100,
   "id": "b929e60c",
   "metadata": {
    "ExecuteTime": {
     "end_time": "2022-01-30T17:54:21.303425Z",
     "start_time": "2022-01-30T17:54:17.862507Z"
    }
   },
   "outputs": [
    {
     "data": {
      "text/plain": [
       "{'Modelo': 'GradientBoosting',\n",
       " 'BalancedAc(treino)': 0.82,\n",
       " 'BalancedAc(Cross Val.)': 0.8,\n",
       " 'f1(treino)': 0.77,\n",
       " 'f1(Cross Val.)': 0.74}"
      ]
     },
     "execution_count": 100,
     "metadata": {},
     "output_type": "execute_result"
    }
   ],
   "source": [
    "model4_row = model_evaluation(Xtrain, ytrain, gb, \"GradientBoosting\")\n",
    "model4_row"
   ]
  },
  {
   "cell_type": "markdown",
   "id": "3e52c00f",
   "metadata": {},
   "source": [
    "## 4.3 Hiperparameter Tuning"
   ]
  },
  {
   "cell_type": "markdown",
   "id": "e6475951",
   "metadata": {},
   "source": [
    "The model with the best perfomance and the smaller overfitting is the Random Forest Classifier. With the best model in hands, lets tune the hiperparameters. I will use Randomized Search."
   ]
  },
  {
   "cell_type": "code",
   "execution_count": 104,
   "id": "13f9dc68",
   "metadata": {
    "ExecuteTime": {
     "end_time": "2022-01-30T18:28:26.333321Z",
     "start_time": "2022-01-30T18:25:43.791986Z"
    }
   },
   "outputs": [
    {
     "name": "stdout",
     "output_type": "stream",
     "text": [
      "{'min_samples_leaf': 5, 'max_features': 'log2', 'max_depth': 8}\n",
      "\n",
      "0.7580139636971124\n"
     ]
    }
   ],
   "source": [
    "params = {\"max_depth\":[3, 5, 8, 13, 21],\n",
    "          \"min_samples_leaf\": [5, 8, 13, 21, 34],\n",
    "          \"max_features\":[\"log2\", \"sqrt\", None]}\n",
    "\n",
    "clf = RandomizedSearchCV(RandomForestClassifier(class_weight=\"balanced\", n_estimators=150), param_distributions=params, n_iter=50, cv=5, scoring=\"f1\")\n",
    "clf.fit(Xtrain, ytrain)\n",
    "print(clf.best_params_)\n",
    "print()\n",
    "print(clf.best_score_)"
   ]
  },
  {
   "cell_type": "code",
   "execution_count": 24,
   "id": "44fc6ac9",
   "metadata": {
    "ExecuteTime": {
     "end_time": "2022-01-30T19:49:02.488312Z",
     "start_time": "2022-01-30T19:49:02.003584Z"
    }
   },
   "outputs": [
    {
     "data": {
      "text/plain": [
       "RandomForestClassifier(class_weight='balanced', max_depth=8,\n",
       "                       max_features='log2', min_samples_leaf=5,\n",
       "                       n_estimators=150)"
      ]
     },
     "execution_count": 24,
     "metadata": {},
     "output_type": "execute_result"
    }
   ],
   "source": [
    "final_model = RandomForestClassifier(class_weight=\"balanced\", n_estimators=150, min_samples_leaf=5, max_depth=8, max_features=\"log2\")\n",
    "final_model.fit(Xtrain, ytrain)"
   ]
  },
  {
   "cell_type": "code",
   "execution_count": 25,
   "id": "a1af61f7",
   "metadata": {
    "ExecuteTime": {
     "end_time": "2022-01-30T19:49:32.790603Z",
     "start_time": "2022-01-30T19:49:27.888325Z"
    }
   },
   "outputs": [
    {
     "data": {
      "text/plain": [
       "{'Modelo': 'GradientBoosting',\n",
       " 'BalancedAc(treino)': 0.82,\n",
       " 'BalancedAc(Cross Val.)': 0.81,\n",
       " 'f1(treino)': 0.78,\n",
       " 'f1(Cross Val.)': 0.76}"
      ]
     },
     "execution_count": 25,
     "metadata": {},
     "output_type": "execute_result"
    }
   ],
   "source": [
    "final_row = model_evaluation(Xtrain, ytrain, final_model, \"GradientBoosting\")\n",
    "final_row"
   ]
  },
  {
   "cell_type": "markdown",
   "id": "72f8b30d",
   "metadata": {},
   "source": [
    "## 4.3 Model evaluation on test\n",
    "\n",
    "We have choose the best model, and the best parameters. Now We will evaluate the model generalization with the test dataset."
   ]
  },
  {
   "cell_type": "code",
   "execution_count": 26,
   "id": "cb24b11c",
   "metadata": {
    "ExecuteTime": {
     "end_time": "2022-01-30T19:51:41.376452Z",
     "start_time": "2022-01-30T19:51:41.178182Z"
    }
   },
   "outputs": [
    {
     "data": {
      "text/plain": [
       "{'balanced_accuracy_score': 0.8298434942716857,\n",
       " 'f1_score': 0.7793880837359098,\n",
       " 'recall_score': 0.75625,\n",
       " 'precision_score': 0.8039867109634552}"
      ]
     },
     "execution_count": 26,
     "metadata": {},
     "output_type": "execute_result"
    }
   ],
   "source": [
    "metrics = [balanced_accuracy_score, f1_score, recall_score, precision_score]\n",
    "metric_grid = {}\n",
    "\n",
    "for i in metrics:\n",
    "        metric_grid[str(metrics[metrics.index(i)]).split(' ')[1]] = i(y_true = ytest, y_pred = final_model.predict(Xtest))\n",
    "        \n",
    "metric_grid"
   ]
  },
  {
   "cell_type": "markdown",
   "id": "53668567",
   "metadata": {},
   "source": [
    "## 4.4 Exporting model and transformers"
   ]
  },
  {
   "cell_type": "markdown",
   "id": "2306f0e2",
   "metadata": {},
   "source": [
    "We need to export the model and the transformers in a pickle file, to later we deploy the model into production."
   ]
  },
  {
   "cell_type": "code",
   "execution_count": 30,
   "id": "6821c3f5",
   "metadata": {
    "ExecuteTime": {
     "end_time": "2022-01-30T21:40:10.446182Z",
     "start_time": "2022-01-30T21:40:10.201140Z"
    }
   },
   "outputs": [],
   "source": [
    "pickle.dump(final_model, open(\"employee_model.pkl\", \"wb\"))"
   ]
  },
  {
   "cell_type": "code",
   "execution_count": 38,
   "id": "3b736803",
   "metadata": {
    "ExecuteTime": {
     "end_time": "2022-01-30T21:46:43.181936Z",
     "start_time": "2022-01-30T21:46:43.162987Z"
    }
   },
   "outputs": [],
   "source": [
    "pickle.dump(le, open(\"label_encoder_education.pkl\", \"wb\"))"
   ]
  },
  {
   "cell_type": "code",
   "execution_count": 46,
   "id": "e92bf070",
   "metadata": {
    "ExecuteTime": {
     "end_time": "2022-01-30T22:23:52.785055Z",
     "start_time": "2022-01-30T22:23:52.773085Z"
    }
   },
   "outputs": [],
   "source": [
    "pickle.dump(ohe, open(\"ohe_city.pkl\", \"wb\"))"
   ]
  },
  {
   "cell_type": "markdown",
   "id": "6ada8eed",
   "metadata": {},
   "source": [
    "# 5. Conclusion\n",
    "\n",
    "## 5.1 Relevant features of who left the company\n",
    "\n",
    "First, human resources can use the insights below about employees to take better decisions.\n",
    "\n",
    "- **Female employees.**\n",
    "- **Employees who ever benched.**\n",
    "- **Emplooyes with less time into the company.**\n",
    "- **Employees with Master Degree.**\n",
    "- **Employees from Pune.**\n",
    "- **Employees with medium payment values.**"
   ]
  },
  {
   "cell_type": "markdown",
   "id": "82dc482e",
   "metadata": {},
   "source": [
    "## 5.2 Business Evaluation\n",
    "\n",
    "The average cost of terminating and hiring a new employee to replace is \\$15000.00\n",
    "\n",
    "With this model we were able to identify employees who are about to leave and try to recover them before then."
   ]
  },
  {
   "cell_type": "code",
   "execution_count": 29,
   "id": "1f255aaf",
   "metadata": {
    "ExecuteTime": {
     "end_time": "2022-01-30T19:56:14.391981Z",
     "start_time": "2022-01-30T19:56:14.147509Z"
    }
   },
   "outputs": [
    {
     "data": {
      "image/png": "[encoded data removed]",
      "text/plain": [
       "<Figure size 720x360 with 2 Axes>"
      ]
     },
     "metadata": {
      "needs_background": "light"
     },
     "output_type": "display_data"
    }
   ],
   "source": [
    "plt.figure(figsize = [10,5])\n",
    "sns.heatmap(confusion_matrix(y_true = ytest, y_pred = final_model.predict(Xtest)), annot = True, fmt=\"g\")\n",
    "plt.title(\"Confusion Matrix\", fontsize = 14)\n",
    "plt.show()"
   ]
  },
  {
   "cell_type": "markdown",
   "id": "4e216656",
   "metadata": {},
   "source": [
    "As we can see, our model can identify correctly 75% of the employees that will turnover in the future. If we consider that we can retain only 50% of the employees that our model identify, our model can reduce the expected loss of employee from \\$15000 to 9475.00, a reduce of 36%."
   ]
  }
 ],
 "metadata": {
  "kernelspec": {
   "display_name": "Python 3 (ipykernel)",
   "language": "python",
   "name": "python3"
  },
  "language_info": {
   "codemirror_mode": {
    "name": "ipython",
    "version": 3
   },
   "file_extension": ".py",
   "mimetype": "text/x-python",
   "name": "python",
   "nbconvert_exporter": "python",
   "pygments_lexer": "ipython3",
   "version": "3.8.8"
  }
 },
 "nbformat": 4,
 "nbformat_minor": 5
}
