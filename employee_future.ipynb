{
 "cells": [
  {
   "cell_type": "markdown",
   "id": "8e448bc7",
   "metadata": {},
   "source": [
    "# 0. Imports"
   ]
  },
  {
   "cell_type": "code",
   "execution_count": 2,
   "id": "d24d9df1",
   "metadata": {},
   "outputs": [],
   "source": [
    "import pandas as pd\n",
    "import numpy as np\n",
    "import matplotlib.pyplot as plt\n",
    "import seaborn as sns\n",
    "from sklearn.preprocessing import OneHotEncoder, MinMaxScaler\n",
    "from sklearn.feature_selection import chi2, f_classif\n",
    "from sklearn.model_selection import train_test_split, cross_val_score, StratifiedKFold\n",
    "from sklearn.linear_model import LogisticRegression\n",
    "from sklearn.neighbors import KNeighborsClassifier\n",
    "from sklearn.ensemble import RandomForestClassifier\n",
    "from sklearn.metrics import balanced_accuracy_score, f1_score, recall_score, precision_score, roc_auc_score, confusion_matrix\n",
    "from imblearn.over_sampling import SVMSMOTE\n",
    "from skopt import BayesSearchCV\n",
    "from skopt.space import Real, Integer, Categorical\n",
    "import pickle\n",
    "\n",
    "import warnings\n",
    "warnings.filterwarnings(\"ignore\")"
   ]
  },
  {
   "cell_type": "markdown",
   "id": "5a63e24b",
   "metadata": {},
   "source": [
    "## 0.0 Functions"
   ]
  },
  {
   "cell_type": "code",
   "execution_count": 3,
   "id": "4c03c974",
   "metadata": {},
   "outputs": [],
   "source": [
    "def cross_val_smote(X_train, y_train, modelo, metrica):\n",
    "    kfold = StratifiedKFold(n_splits = 5, shuffle = True, random_state=2)\n",
    "\n",
    "    for train_idx, val_idx in kfold.split( X_train, y_train):\n",
    "        Xtrain_fold = X_train.iloc[train_idx].values\n",
    "        ytrain_fold = y_train.iloc[train_idx].values.reshape(-1, 1)\n",
    "\n",
    "        Xval_fold = X_train.iloc[val_idx].values\n",
    "        yval_fold = y_train.iloc[val_idx].values.reshape(-1, 1)\n",
    "\n",
    "        sm = SVMSMOTE(random_state = 11, k_neighbors = 3)\n",
    "\n",
    "        Xtrain_fold_res, ytrain_fold_res = sm.fit_resample(Xtrain_fold, ytrain_fold)\n",
    "\n",
    "        modelo.fit(Xtrain_fold_res, ytrain_fold_res)\n",
    "\n",
    "        pred = modelo.predict(Xval_fold)\n",
    "\n",
    "        lista_metrica = []\n",
    "\n",
    "        lista_metrica.append(metrica(y_true = yval_fold, y_pred = pred))\n",
    "\n",
    "    return np.mean(lista_metrica)"
   ]
  },
  {
   "cell_type": "code",
   "execution_count": 4,
   "id": "30b2f40a",
   "metadata": {},
   "outputs": [],
   "source": [
    "def bayes_search(X, y, param_grid, model, score, n_folds = 5):\n",
    "    \n",
    "    folds = StratifiedKFold(n_splits = n_folds, shuffle = True)\n",
    "    opt = BayesSearchCV(estimator = model, search_spaces = param_grid, scoring = score, cv = folds)\n",
    "    opt.fit(X, y)\n",
    "\n",
    "    print(\"Melhores parâmetros:\", opt.best_params_)\n",
    "    print()\n",
    "    print(\"Melhor score:\", opt.best_score_)"
   ]
  },
  {
   "cell_type": "code",
   "execution_count": 5,
   "id": "e5b201c8",
   "metadata": {},
   "outputs": [],
   "source": [
    "def model_evaluation(X_train, y_train, model, nome_modelo, folds = 5):\n",
    "\n",
    "    ac_treino = np.round(balanced_accuracy_score(y_true = y_train, y_pred = model.predict(X_train)), 2)\n",
    "    ac_cv = np.round(np.mean(cross_val_score(estimator = model, X = X_train, y = y_train, scoring = \"balanced_accuracy\", cv = folds)), 2)\n",
    "    \n",
    "    f1_treino = np.round(f1_score(y_true = y_train, y_pred = model.predict(X_train)), 2)\n",
    "    f1_cv = np.round(np.mean(cross_val_score(estimator = model, X = X_train, y = y_train, scoring = \"f1\", cv = folds)), 2)\n",
    "\n",
    "    row_evaluation = {\"Modelo\": nome_modelo, \"BalancedAc(treino)\": ac_treino, \"BalancedAc(Cross Val.)\": ac_cv, \"f1(treino)\": f1_treino, \"f1(Cross Val.)\": f1_cv}\n",
    "\n",
    "    return row_evaluation"
   ]
  },
  {
   "cell_type": "code",
   "execution_count": 6,
   "id": "f2fea834",
   "metadata": {},
   "outputs": [],
   "source": [
    "def model_evaluation2(X_train, y_train, model, nome_modelo):\n",
    "\n",
    "    ac_treino = np.round(balanced_accuracy_score(y_true = y_train, y_pred = model.predict(X_train)), 3)\n",
    "    ac_cv = np.round(cross_val_smote(modelo = model, X_train = X_train, y_train = y_train, metrica = balanced_accuracy_score), 3)\n",
    "    \n",
    "    f1_treino = np.round(f1_score(y_true = y_train, y_pred = model.predict(X_train)), 3)\n",
    "    f1_cv = np.round(cross_val_smote(modelo = model, X_train = X_train, y_train = y_train, metrica = f1_score), 3)\n",
    "\n",
    "    row_evaluation = {\"Modelo\": nome_modelo, \"BalancedAc(treino)\": ac_treino, \"BalancedAc(Cross Val.)\": ac_cv, \"f1(treino)\": f1_treino, \"f1(Cross Val.)\": f1_cv}\n",
    "\n",
    "    return row_evaluation"
   ]
  },
  {
   "cell_type": "markdown",
   "id": "4b26dc10",
   "metadata": {},
   "source": [
    "## 0.1 Load data"
   ]
  },
  {
   "cell_type": "code",
   "execution_count": 7,
   "id": "341fbf95",
   "metadata": {},
   "outputs": [
    {
     "data": {
      "text/html": [
       "<div>\n",
       "<style scoped>\n",
       "    .dataframe tbody tr th:only-of-type {\n",
       "        vertical-align: middle;\n",
       "    }\n",
       "\n",
       "    .dataframe tbody tr th {\n",
       "        vertical-align: top;\n",
       "    }\n",
       "\n",
       "    .dataframe thead th {\n",
       "        text-align: right;\n",
       "    }\n",
       "</style>\n",
       "<table border=\"1\" class=\"dataframe\">\n",
       "  <thead>\n",
       "    <tr style=\"text-align: right;\">\n",
       "      <th></th>\n",
       "      <th>Education</th>\n",
       "      <th>JoiningYear</th>\n",
       "      <th>City</th>\n",
       "      <th>PaymentTier</th>\n",
       "      <th>Age</th>\n",
       "      <th>Gender</th>\n",
       "      <th>EverBenched</th>\n",
       "      <th>ExperienceInCurrentDomain</th>\n",
       "      <th>LeaveOrNot</th>\n",
       "    </tr>\n",
       "  </thead>\n",
       "  <tbody>\n",
       "    <tr>\n",
       "      <th>0</th>\n",
       "      <td>Bachelors</td>\n",
       "      <td>2017</td>\n",
       "      <td>Bangalore</td>\n",
       "      <td>3</td>\n",
       "      <td>34</td>\n",
       "      <td>Male</td>\n",
       "      <td>No</td>\n",
       "      <td>0</td>\n",
       "      <td>0</td>\n",
       "    </tr>\n",
       "    <tr>\n",
       "      <th>1</th>\n",
       "      <td>Bachelors</td>\n",
       "      <td>2013</td>\n",
       "      <td>Pune</td>\n",
       "      <td>1</td>\n",
       "      <td>28</td>\n",
       "      <td>Female</td>\n",
       "      <td>No</td>\n",
       "      <td>3</td>\n",
       "      <td>1</td>\n",
       "    </tr>\n",
       "    <tr>\n",
       "      <th>2</th>\n",
       "      <td>Bachelors</td>\n",
       "      <td>2014</td>\n",
       "      <td>New Delhi</td>\n",
       "      <td>3</td>\n",
       "      <td>38</td>\n",
       "      <td>Female</td>\n",
       "      <td>No</td>\n",
       "      <td>2</td>\n",
       "      <td>0</td>\n",
       "    </tr>\n",
       "    <tr>\n",
       "      <th>3</th>\n",
       "      <td>Masters</td>\n",
       "      <td>2016</td>\n",
       "      <td>Bangalore</td>\n",
       "      <td>3</td>\n",
       "      <td>27</td>\n",
       "      <td>Male</td>\n",
       "      <td>No</td>\n",
       "      <td>5</td>\n",
       "      <td>1</td>\n",
       "    </tr>\n",
       "    <tr>\n",
       "      <th>4</th>\n",
       "      <td>Masters</td>\n",
       "      <td>2017</td>\n",
       "      <td>Pune</td>\n",
       "      <td>3</td>\n",
       "      <td>24</td>\n",
       "      <td>Male</td>\n",
       "      <td>Yes</td>\n",
       "      <td>2</td>\n",
       "      <td>1</td>\n",
       "    </tr>\n",
       "  </tbody>\n",
       "</table>\n",
       "</div>"
      ],
      "text/plain": [
       "   Education  JoiningYear       City  PaymentTier  Age  Gender EverBenched  \\\n",
       "0  Bachelors         2017  Bangalore            3   34    Male          No   \n",
       "1  Bachelors         2013       Pune            1   28  Female          No   \n",
       "2  Bachelors         2014  New Delhi            3   38  Female          No   \n",
       "3    Masters         2016  Bangalore            3   27    Male          No   \n",
       "4    Masters         2017       Pune            3   24    Male         Yes   \n",
       "\n",
       "   ExperienceInCurrentDomain  LeaveOrNot  \n",
       "0                          0           0  \n",
       "1                          3           1  \n",
       "2                          2           0  \n",
       "3                          5           1  \n",
       "4                          2           1  "
      ]
     },
     "execution_count": 7,
     "metadata": {},
     "output_type": "execute_result"
    }
   ],
   "source": [
    "df = pd.read_csv(\"Employee.csv\")\n",
    "df.head()"
   ]
  },
  {
   "cell_type": "markdown",
   "id": "0febc2cd",
   "metadata": {},
   "source": [
    "**Columns Description**\n",
    "\n",
    "- Education -> EDUCATION LEVEL\n",
    "- JoiningYear -> YEAR OF JOINING COMPANY\n",
    "- City -> CITY OFFICE WHERE POSTED\n",
    "- PaymentTier -> PAYMENT TIER: 1: HIGHEST 2: MID LEVEL 3:LOWEST\n",
    "- Age -> CURRENT AGE\n",
    "- Gender -> GENDER OF EMPLOYEE\n",
    "- EverBenched -> EVER KEPT OUT OF PROJECTS FOR 1 MONTH OR MORE\n",
    "- ExperienceInCurrentDomain -> EXPERIENCE IN CURRENT FIELD\n",
    "- LeaveOrNot -> WHETHER EMPLOYEE LEAVES THE COMPANY IN NEXT 2 YEARS"
   ]
  },
  {
   "cell_type": "markdown",
   "id": "2f225ba3",
   "metadata": {},
   "source": [
    "# 1. Data Description\n",
    "\n",
    "The description of the data will be carried out and also the Descriptive Statistics to describe the data.\n",
    "\n",
    "## 1.1 Data Size"
   ]
  },
  {
   "cell_type": "code",
   "execution_count": 8,
   "id": "c2972127",
   "metadata": {},
   "outputs": [
    {
     "name": "stdout",
     "output_type": "stream",
     "text": [
      "N° linhas: 4653\n",
      "N° colunas: 9\n"
     ]
    }
   ],
   "source": [
    "print(\"N° linhas:\", df.shape[0])\n",
    "print(\"N° colunas:\", df.shape[1])"
   ]
  },
  {
   "cell_type": "markdown",
   "id": "2c04543b",
   "metadata": {},
   "source": [
    "## 1.2 Data Types"
   ]
  },
  {
   "cell_type": "code",
   "execution_count": 9,
   "id": "3964c8de",
   "metadata": {},
   "outputs": [
    {
     "data": {
      "text/plain": [
       "Education                    object\n",
       "JoiningYear                   int64\n",
       "City                         object\n",
       "PaymentTier                   int64\n",
       "Age                           int64\n",
       "Gender                       object\n",
       "EverBenched                  object\n",
       "ExperienceInCurrentDomain     int64\n",
       "LeaveOrNot                    int64\n",
       "dtype: object"
      ]
     },
     "execution_count": 9,
     "metadata": {},
     "output_type": "execute_result"
    }
   ],
   "source": [
    "df.dtypes"
   ]
  },
  {
   "cell_type": "markdown",
   "id": "f0de4fdd",
   "metadata": {},
   "source": [
    "## 1.3 Check NaN"
   ]
  },
  {
   "cell_type": "code",
   "execution_count": 10,
   "id": "540fc820",
   "metadata": {},
   "outputs": [
    {
     "data": {
      "text/plain": [
       "Education                    0\n",
       "JoiningYear                  0\n",
       "City                         0\n",
       "PaymentTier                  0\n",
       "Age                          0\n",
       "Gender                       0\n",
       "EverBenched                  0\n",
       "ExperienceInCurrentDomain    0\n",
       "LeaveOrNot                   0\n",
       "dtype: int64"
      ]
     },
     "execution_count": 10,
     "metadata": {},
     "output_type": "execute_result"
    }
   ],
   "source": [
    "df.isnull().sum()"
   ]
  },
  {
   "cell_type": "markdown",
   "id": "e56106c2",
   "metadata": {},
   "source": [
    "## 1.4 Descriptive Statistical"
   ]
  },
  {
   "cell_type": "code",
   "execution_count": 11,
   "id": "6c8b6f29",
   "metadata": {},
   "outputs": [
    {
     "data": {
      "text/html": [
       "<div>\n",
       "<style scoped>\n",
       "    .dataframe tbody tr th:only-of-type {\n",
       "        vertical-align: middle;\n",
       "    }\n",
       "\n",
       "    .dataframe tbody tr th {\n",
       "        vertical-align: top;\n",
       "    }\n",
       "\n",
       "    .dataframe thead th {\n",
       "        text-align: right;\n",
       "    }\n",
       "</style>\n",
       "<table border=\"1\" class=\"dataframe\">\n",
       "  <thead>\n",
       "    <tr style=\"text-align: right;\">\n",
       "      <th></th>\n",
       "      <th>count</th>\n",
       "      <th>mean</th>\n",
       "      <th>std</th>\n",
       "      <th>min</th>\n",
       "      <th>25%</th>\n",
       "      <th>50%</th>\n",
       "      <th>75%</th>\n",
       "      <th>max</th>\n",
       "    </tr>\n",
       "  </thead>\n",
       "  <tbody>\n",
       "    <tr>\n",
       "      <th>JoiningYear</th>\n",
       "      <td>4653.0</td>\n",
       "      <td>2015.062970</td>\n",
       "      <td>1.863377</td>\n",
       "      <td>2012.0</td>\n",
       "      <td>2013.0</td>\n",
       "      <td>2015.0</td>\n",
       "      <td>2017.0</td>\n",
       "      <td>2018.0</td>\n",
       "    </tr>\n",
       "    <tr>\n",
       "      <th>PaymentTier</th>\n",
       "      <td>4653.0</td>\n",
       "      <td>2.698259</td>\n",
       "      <td>0.561435</td>\n",
       "      <td>1.0</td>\n",
       "      <td>3.0</td>\n",
       "      <td>3.0</td>\n",
       "      <td>3.0</td>\n",
       "      <td>3.0</td>\n",
       "    </tr>\n",
       "    <tr>\n",
       "      <th>Age</th>\n",
       "      <td>4653.0</td>\n",
       "      <td>29.393295</td>\n",
       "      <td>4.826087</td>\n",
       "      <td>22.0</td>\n",
       "      <td>26.0</td>\n",
       "      <td>28.0</td>\n",
       "      <td>32.0</td>\n",
       "      <td>41.0</td>\n",
       "    </tr>\n",
       "    <tr>\n",
       "      <th>ExperienceInCurrentDomain</th>\n",
       "      <td>4653.0</td>\n",
       "      <td>2.905652</td>\n",
       "      <td>1.558240</td>\n",
       "      <td>0.0</td>\n",
       "      <td>2.0</td>\n",
       "      <td>3.0</td>\n",
       "      <td>4.0</td>\n",
       "      <td>7.0</td>\n",
       "    </tr>\n",
       "    <tr>\n",
       "      <th>LeaveOrNot</th>\n",
       "      <td>4653.0</td>\n",
       "      <td>0.343864</td>\n",
       "      <td>0.475047</td>\n",
       "      <td>0.0</td>\n",
       "      <td>0.0</td>\n",
       "      <td>0.0</td>\n",
       "      <td>1.0</td>\n",
       "      <td>1.0</td>\n",
       "    </tr>\n",
       "  </tbody>\n",
       "</table>\n",
       "</div>"
      ],
      "text/plain": [
       "                            count         mean       std     min     25%  \\\n",
       "JoiningYear                4653.0  2015.062970  1.863377  2012.0  2013.0   \n",
       "PaymentTier                4653.0     2.698259  0.561435     1.0     3.0   \n",
       "Age                        4653.0    29.393295  4.826087    22.0    26.0   \n",
       "ExperienceInCurrentDomain  4653.0     2.905652  1.558240     0.0     2.0   \n",
       "LeaveOrNot                 4653.0     0.343864  0.475047     0.0     0.0   \n",
       "\n",
       "                              50%     75%     max  \n",
       "JoiningYear                2015.0  2017.0  2018.0  \n",
       "PaymentTier                   3.0     3.0     3.0  \n",
       "Age                          28.0    32.0    41.0  \n",
       "ExperienceInCurrentDomain     3.0     4.0     7.0  \n",
       "LeaveOrNot                    0.0     1.0     1.0  "
      ]
     },
     "execution_count": 11,
     "metadata": {},
     "output_type": "execute_result"
    }
   ],
   "source": [
    "df.describe().transpose()"
   ]
  },
  {
   "cell_type": "markdown",
   "id": "3636de77",
   "metadata": {},
   "source": [
    "## 1.5 Lower Case Columns\n",
    "\n",
    "To be easiest to manipulate, i will turn all columns names in lowercase."
   ]
  },
  {
   "cell_type": "code",
   "execution_count": 12,
   "id": "e0ea0b42",
   "metadata": {},
   "outputs": [],
   "source": [
    "df.columns = df.columns.str.lower()"
   ]
  },
  {
   "cell_type": "code",
   "execution_count": 13,
   "id": "db2508db",
   "metadata": {},
   "outputs": [
    {
     "data": {
      "text/plain": [
       "Index(['education', 'joiningyear', 'city', 'paymenttier', 'age', 'gender',\n",
       "       'everbenched', 'experienceincurrentdomain', 'leaveornot'],\n",
       "      dtype='object')"
      ]
     },
     "execution_count": 13,
     "metadata": {},
     "output_type": "execute_result"
    }
   ],
   "source": [
    "df.columns"
   ]
  },
  {
   "cell_type": "code",
   "execution_count": 14,
   "id": "46219bdc",
   "metadata": {},
   "outputs": [],
   "source": [
    "df.columns = ['education', 'joining_year', 'city', 'payment_tier', 'age', 'gender',\n",
    "       'ever_benched', 'experience_current_domain', 'leave']"
   ]
  },
  {
   "cell_type": "markdown",
   "id": "c26e828c",
   "metadata": {},
   "source": [
    "# 2. Feature Engineering\n",
    "\n",
    "## 2.1  Feature Engineering"
   ]
  },
  {
   "cell_type": "code",
   "execution_count": 15,
   "id": "f914e379",
   "metadata": {},
   "outputs": [],
   "source": [
    "df[\"time_employed\"] = 2018 - df.joining_year"
   ]
  },
  {
   "cell_type": "markdown",
   "id": "dd5e18a8",
   "metadata": {},
   "source": [
    "# 3. Exploratory Data Analysis\n",
    "\n",
    "In the Exploratory Data Analysis the data will be better analized and hypotheses will be raised in order to generate insights for the human resources team and also identify the correlation between variables and 'LeaveOrNot'.\n"
   ]
  },
  {
   "cell_type": "markdown",
   "id": "c3b4d628",
   "metadata": {},
   "source": [
    "## 3.1 Univariate Analysis"
   ]
  },
  {
   "cell_type": "code",
   "execution_count": 16,
   "id": "21acfd9a",
   "metadata": {},
   "outputs": [],
   "source": [
    "num_col = [\"age\", \"experience_current_domain\", \"time_employed\"]\n",
    "cat_col = [\"education\", \"city\", \"payment_tier\", \"gender\", \"ever_benched\"]\n",
    "target_col = \"leave\""
   ]
  },
  {
   "cell_type": "markdown",
   "id": "132b8287",
   "metadata": {},
   "source": [
    "### 3.1.1 Response Variable"
   ]
  },
  {
   "cell_type": "code",
   "execution_count": 17,
   "id": "70ed5aea",
   "metadata": {},
   "outputs": [
    {
     "data": {
      "image/png": "[encoded data removed]",
      "text/plain": [
       "<Figure size 720x360 with 1 Axes>"
      ]
     },
     "metadata": {
      "needs_background": "light"
     },
     "output_type": "display_data"
    }
   ],
   "source": [
    "plt.figure(figsize = [10,5])\n",
    "sns.countplot(df[\"leave\"])\n",
    "plt.title(\"Response Variable Distribution\", fontsize = 14)\n",
    "plt.show()"
   ]
  },
  {
   "cell_type": "code",
   "execution_count": 18,
   "id": "9c591665",
   "metadata": {},
   "outputs": [
    {
     "data": {
      "text/plain": [
       "0    65.613583\n",
       "1    34.386417\n",
       "Name: leave, dtype: float64"
      ]
     },
     "execution_count": 18,
     "metadata": {},
     "output_type": "execute_result"
    }
   ],
   "source": [
    "(df.leave.value_counts() / df.shape[0]) * 100"
   ]
  },
  {
   "cell_type": "markdown",
   "id": "75e68aca",
   "metadata": {},
   "source": [
    "Our dataset is a little bit inmbalanced, we will deal with this later in the notebook.\n",
    "\n",
    "### 3.1.2 Numerical Variables"
   ]
  },
  {
   "cell_type": "code",
   "execution_count": 19,
   "id": "5343f742",
   "metadata": {},
   "outputs": [
    {
     "data": {
      "image/png": "[encoded data removed]",
      "text/plain": [
       "<Figure size 1440x432 with 3 Axes>"
      ]
     },
     "metadata": {
      "needs_background": "light"
     },
     "output_type": "display_data"
    }
   ],
   "source": [
    "plt.figure(figsize = [20, 6])\n",
    "\n",
    "for i in num_col:\n",
    "    plt.subplot(1, 3, num_col.index(i) + 1)\n",
    "    sns.histplot(df[i], kde = True)\n",
    "    plt.title(i + \" - Distribution\", fontsize = 14)\n",
    "plt.show()"
   ]
  },
  {
   "cell_type": "code",
   "execution_count": 20,
   "id": "13c89604",
   "metadata": {},
   "outputs": [
    {
     "data": {
      "image/png": "[encoded data removed]",
      "text/plain": [
       "<Figure size 1440x432 with 3 Axes>"
      ]
     },
     "metadata": {
      "needs_background": "light"
     },
     "output_type": "display_data"
    }
   ],
   "source": [
    "plt.figure(figsize = [20, 6])\n",
    "\n",
    "for i in num_col:\n",
    "    plt.subplot(1, 3, num_col.index(i) + 1)\n",
    "    plt.boxplot(df[i])\n",
    "    plt.title(i + \" - Distribution\", fontsize = 14)\n",
    "    plt.grid()\n",
    "plt.show()"
   ]
  },
  {
   "cell_type": "markdown",
   "id": "a259d410",
   "metadata": {},
   "source": [
    "### 3.1.3 Categorical Variables"
   ]
  },
  {
   "cell_type": "code",
   "execution_count": 21,
   "id": "d8bff2e7",
   "metadata": {},
   "outputs": [
    {
     "data": {
      "image/png": "[encoded data removed]",
      "text/plain": [
       "<Figure size 1008x1296 with 5 Axes>"
      ]
     },
     "metadata": {
      "needs_background": "light"
     },
     "output_type": "display_data"
    }
   ],
   "source": [
    "plt.figure(figsize = [14, 18])\n",
    "\n",
    "for i in cat_col:\n",
    "    plt.subplot(3, 2, cat_col.index(i) + 1)\n",
    "    sns.countplot(df[i])\n",
    "    plt.title(i + \" - Distribution\", fontsize = 14)\n",
    "    plt.grid()\n",
    "plt.show()"
   ]
  },
  {
   "cell_type": "markdown",
   "id": "5867afec",
   "metadata": {},
   "source": [
    "## 3.2 Bivariate Analysis\n",
    "\n",
    "Here we will analyze the relationship between the attributes and the target variable, in order to discover the characteristics of an employee who leaves the company.\n",
    "\n",
    "### 3.2.1 Numerical Variables"
   ]
  },
  {
   "cell_type": "code",
   "execution_count": 22,
   "id": "aea7dfe7",
   "metadata": {},
   "outputs": [
    {
     "data": {
      "image/png": "[encoded data removed]",
      "text/plain": [
       "<Figure size 1440x360 with 3 Axes>"
      ]
     },
     "metadata": {
      "needs_background": "light"
     },
     "output_type": "display_data"
    }
   ],
   "source": [
    "plt.figure(figsize = [20, 5])\n",
    "for i in num_col:\n",
    "    plt.subplot(1, 3, num_col.index(i) + 1)\n",
    "    sns.boxplot(df[\"leave\"], df[i])\n",
    "    plt.title(i + \" - leave\", fontsize = 14)    \n",
    "plt.show()"
   ]
  },
  {
   "cell_type": "markdown",
   "id": "8b549aae",
   "metadata": {},
   "source": [
    "### 3.2.2 Categorical Variables"
   ]
  },
  {
   "cell_type": "code",
   "execution_count": 23,
   "id": "2bc53258",
   "metadata": {},
   "outputs": [
    {
     "data": {
      "image/png": "[encoded data removed]",
      "text/plain": [
       "<Figure size 1008x1296 with 5 Axes>"
      ]
     },
     "metadata": {
      "needs_background": "light"
     },
     "output_type": "display_data"
    }
   ],
   "source": [
    "plt.figure(figsize = [14, 18])\n",
    "for i in cat_col:\n",
    "    plt.subplot(3, 2, cat_col.index(i) + 1)\n",
    "    sns.countplot(df[i], hue = df[\"leave\"])\n",
    "    plt.title(i + \" - leave\", fontsize = 14)    \n",
    "plt.show()"
   ]
  },
  {
   "cell_type": "markdown",
   "id": "f99a8e0c",
   "metadata": {},
   "source": [
    "## 3.3 Particulars of a employee who leave the company\n",
    "\n",
    "### P1: Employees with less time into the company\n",
    "\n",
    "Employees who left the company have an average of years in the company of 2.46 years while who doesn't left have an average of years of 3.18."
   ]
  },
  {
   "cell_type": "code",
   "execution_count": 24,
   "id": "0e6eec3d",
   "metadata": {},
   "outputs": [
    {
     "data": {
      "image/png": "[encoded data removed]",
      "text/plain": [
       "<Figure size 576x360 with 1 Axes>"
      ]
     },
     "metadata": {
      "needs_background": "light"
     },
     "output_type": "display_data"
    },
    {
     "name": "stdout",
     "output_type": "stream",
     "text": [
      "Mean - years employed - Left: 2.469375\n",
      "\n",
      "Mean - years employed - Not Left: 3.182115951523092\n"
     ]
    }
   ],
   "source": [
    "plt.figure(figsize = [8, 5])\n",
    "sns.boxplot(df[\"leave\"], df[\"time_employed\"])\n",
    "plt.grid()\n",
    "plt.show()\n",
    "\n",
    "print(\"Mean - years employed - Left:\",np.mean(df[df[\"leave\"] == 1][\"time_employed\"]))\n",
    "print()\n",
    "print(\"Mean - years employed - Not Left:\",np.mean(df[df[\"leave\"] == 0][\"time_employed\"]))"
   ]
  },
  {
   "cell_type": "markdown",
   "id": "1edfdb16",
   "metadata": {},
   "source": [
    "### P2: Employees with Master degree\n",
    "\n",
    "48,8% of the employees with Master Degree left the company."
   ]
  },
  {
   "cell_type": "code",
   "execution_count": 25,
   "id": "df67ac58",
   "metadata": {},
   "outputs": [
    {
     "data": {
      "image/png": "[encoded data removed]",
      "text/plain": [
       "<Figure size 720x360 with 1 Axes>"
      ]
     },
     "metadata": {
      "needs_background": "light"
     },
     "output_type": "display_data"
    }
   ],
   "source": [
    "plt.figure(figsize = [10,5])\n",
    "sns.countplot(df[df[\"education\"] == \"Masters\"][\"education\"], hue = df[\"leave\"], dodge = True)\n",
    "plt.show()"
   ]
  },
  {
   "cell_type": "code",
   "execution_count": 26,
   "id": "61cdadeb",
   "metadata": {},
   "outputs": [
    {
     "data": {
      "text/plain": [
       "0    51.202749\n",
       "1    48.797251\n",
       "Name: leave, dtype: float64"
      ]
     },
     "execution_count": 26,
     "metadata": {},
     "output_type": "execute_result"
    }
   ],
   "source": [
    "(df[df[\"education\"] == \"Masters\"][\"leave\"].value_counts() / df[df[\"education\"] == \"Masters\"].shape[0]) * 100"
   ]
  },
  {
   "cell_type": "markdown",
   "id": "ef235af9",
   "metadata": {},
   "source": [
    "### P3: Employees from Pune\n",
    "\n",
    "50,4% of the employees from Pune left the company."
   ]
  },
  {
   "cell_type": "code",
   "execution_count": 27,
   "id": "15fc0b1b",
   "metadata": {},
   "outputs": [
    {
     "data": {
      "image/png": "[encoded data removed]",
      "text/plain": [
       "<Figure size 720x360 with 1 Axes>"
      ]
     },
     "metadata": {
      "needs_background": "light"
     },
     "output_type": "display_data"
    }
   ],
   "source": [
    "plt.figure(figsize = [10,5])\n",
    "sns.countplot(df[df[\"city\"] == \"Pune\"][\"city\"], hue = df[\"leave\"], dodge = True)\n",
    "plt.show()"
   ]
  },
  {
   "cell_type": "code",
   "execution_count": 28,
   "id": "2a1801be",
   "metadata": {},
   "outputs": [
    {
     "data": {
      "text/plain": [
       "1    50.394322\n",
       "0    49.605678\n",
       "Name: leave, dtype: float64"
      ]
     },
     "execution_count": 28,
     "metadata": {},
     "output_type": "execute_result"
    }
   ],
   "source": [
    "(df[df[\"city\"] == \"Pune\"][\"leave\"].value_counts() / df[df[\"city\"] == \"Pune\"].shape[0]) * 100"
   ]
  },
  {
   "cell_type": "markdown",
   "id": "ef11a028",
   "metadata": {},
   "source": [
    "### P4: Employees with median level payment\n",
    "\n",
    "59,9% of the employees with median level payment left the company."
   ]
  },
  {
   "cell_type": "code",
   "execution_count": 29,
   "id": "a38df9be",
   "metadata": {},
   "outputs": [
    {
     "data": {
      "image/png": "[encoded data removed]",
      "text/plain": [
       "<Figure size 720x360 with 1 Axes>"
      ]
     },
     "metadata": {
      "needs_background": "light"
     },
     "output_type": "display_data"
    }
   ],
   "source": [
    "plt.figure(figsize = [10,5])\n",
    "sns.countplot(df[df[\"payment_tier\"] == 2][\"payment_tier\"], hue = df[\"leave\"], dodge = True)\n",
    "plt.show()"
   ]
  },
  {
   "cell_type": "code",
   "execution_count": 30,
   "id": "23c24df7",
   "metadata": {},
   "outputs": [
    {
     "data": {
      "text/plain": [
       "1    59.912854\n",
       "0    40.087146\n",
       "Name: leave, dtype: float64"
      ]
     },
     "execution_count": 30,
     "metadata": {},
     "output_type": "execute_result"
    }
   ],
   "source": [
    "(df[df[\"payment_tier\"] == 2][\"leave\"].value_counts() / df[df[\"payment_tier\"] == 2].shape[0]) * 100"
   ]
  },
  {
   "cell_type": "markdown",
   "id": "3e8af388",
   "metadata": {},
   "source": [
    "### P5: Female employees\n",
    "\n",
    "47% of the  female employees left the company."
   ]
  },
  {
   "cell_type": "code",
   "execution_count": 31,
   "id": "30738d7c",
   "metadata": {},
   "outputs": [
    {
     "data": {
      "image/png": "[encoded data removed]",
      "text/plain": [
       "<Figure size 720x360 with 1 Axes>"
      ]
     },
     "metadata": {
      "needs_background": "light"
     },
     "output_type": "display_data"
    }
   ],
   "source": [
    "plt.figure(figsize = [10,5])\n",
    "sns.countplot(df[df[\"gender\"] == \"Female\"][\"gender\"], hue = df[\"leave\"], dodge = True)\n",
    "plt.show()"
   ]
  },
  {
   "cell_type": "code",
   "execution_count": 32,
   "id": "314a286f",
   "metadata": {},
   "outputs": [
    {
     "data": {
      "text/plain": [
       "0    52.853333\n",
       "1    47.146667\n",
       "Name: leave, dtype: float64"
      ]
     },
     "execution_count": 32,
     "metadata": {},
     "output_type": "execute_result"
    }
   ],
   "source": [
    "(df[df[\"gender\"] == \"Female\"][\"leave\"].value_counts() / df[df[\"gender\"] == \"Female\"].shape[0]) * 100"
   ]
  },
  {
   "cell_type": "markdown",
   "id": "ae67306c",
   "metadata": {},
   "source": [
    "### P6: Employees who ever benched\n",
    "\n",
    "45,4% of the employees who ever benched left the company."
   ]
  },
  {
   "cell_type": "code",
   "execution_count": 33,
   "id": "8cdb8fe1",
   "metadata": {},
   "outputs": [
    {
     "data": {
      "image/png": "[encoded data removed]",
      "text/plain": [
       "<Figure size 720x360 with 1 Axes>"
      ]
     },
     "metadata": {
      "needs_background": "light"
     },
     "output_type": "display_data"
    }
   ],
   "source": [
    "plt.figure(figsize = [10,5])\n",
    "sns.countplot(df[df[\"ever_benched\"] == \"Yes\"][\"ever_benched\"], hue = df[\"leave\"], dodge = True)\n",
    "plt.show()"
   ]
  },
  {
   "cell_type": "code",
   "execution_count": 34,
   "id": "b2344ab4",
   "metadata": {},
   "outputs": [
    {
     "data": {
      "text/plain": [
       "0    54.60251\n",
       "1    45.39749\n",
       "Name: leave, dtype: float64"
      ]
     },
     "execution_count": 34,
     "metadata": {},
     "output_type": "execute_result"
    }
   ],
   "source": [
    "(df[df[\"ever_benched\"] == \"Yes\"][\"leave\"].value_counts() / df[df[\"ever_benched\"] == \"Yes\"].shape[0]) * 100"
   ]
  },
  {
   "cell_type": "code",
   "execution_count": 35,
   "id": "e4e3f733",
   "metadata": {},
   "outputs": [],
   "source": [
    "df2 = df.copy()"
   ]
  },
  {
   "cell_type": "markdown",
   "id": "a61f6ac8",
   "metadata": {},
   "source": [
    "# 4. Machine Learning\n",
    "\n",
    "## 4.1 Pre-processing\n",
    "\n",
    "### 4.1.1 Removing joining_year column\n",
    "\n",
    "Removing this column because whe already have the same information processed on the time_employed column."
   ]
  },
  {
   "cell_type": "code",
   "execution_count": 36,
   "id": "e48feeeb",
   "metadata": {},
   "outputs": [],
   "source": [
    "df2 = df.drop(\"joining_year\", axis = 1)"
   ]
  },
  {
   "cell_type": "markdown",
   "id": "5163055d",
   "metadata": {},
   "source": [
    "### 4.1.2 One Hot Encoding\n",
    "\n",
    "Transforming categorical columns to boolean."
   ]
  },
  {
   "cell_type": "code",
   "execution_count": 37,
   "id": "8596fdd5",
   "metadata": {},
   "outputs": [],
   "source": [
    "df2.gender = df2.gender.replace({\"Male\":0, \"Female\":1})\n",
    "df2.ever_benched = df2.ever_benched.replace({\"No\":0, \"Yes\":1})\n",
    "\n",
    "col_ohe = [\"education\", \"city\", \"payment_tier\"]\n",
    "\n",
    "for i in col_ohe:\n",
    "    ohe = OneHotEncoder()\n",
    "    df_temp = pd.DataFrame(ohe.fit_transform(df2[i].values.reshape(-1,1)).toarray(), columns = [str(i) + \"_\" + str(x) for x in ohe.categories_[0]])\n",
    "    df2 = pd.concat([df2, df_temp], axis = 1)\n",
    "    df2 = df2.drop(i, axis = 1)"
   ]
  },
  {
   "cell_type": "markdown",
   "id": "4f951877",
   "metadata": {},
   "source": [
    "### 4.1.3 Feature Selection\n",
    "\n",
    "We will use some statistical tests to confirm the hypotheses generated by the bivariate analysis, discover new relationships and select the best variables for the model.\n",
    "\n",
    "#### Chi² for categorical features"
   ]
  },
  {
   "cell_type": "code",
   "execution_count": 38,
   "id": "9a6849d3",
   "metadata": {},
   "outputs": [],
   "source": [
    "cat_col2 = ['gender', 'ever_benched', 'education_Bachelors', 'education_Masters',\n",
    "            'education_PHD', 'city_Bangalore', 'city_New Delhi', 'city_Pune',\n",
    "            'payment_tier_1', 'payment_tier_2', 'payment_tier_3']"
   ]
  },
  {
   "cell_type": "code",
   "execution_count": 39,
   "id": "e1d1f7fd",
   "metadata": {
    "scrolled": true
   },
   "outputs": [
    {
     "data": {
      "text/html": [
       "<div>\n",
       "<style scoped>\n",
       "    .dataframe tbody tr th:only-of-type {\n",
       "        vertical-align: middle;\n",
       "    }\n",
       "\n",
       "    .dataframe tbody tr th {\n",
       "        vertical-align: top;\n",
       "    }\n",
       "\n",
       "    .dataframe thead th {\n",
       "        text-align: right;\n",
       "    }\n",
       "</style>\n",
       "<table border=\"1\" class=\"dataframe\">\n",
       "  <thead>\n",
       "    <tr style=\"text-align: right;\">\n",
       "      <th></th>\n",
       "      <th>feature</th>\n",
       "      <th>chi2</th>\n",
       "      <th>p-value</th>\n",
       "    </tr>\n",
       "  </thead>\n",
       "  <tbody>\n",
       "    <tr>\n",
       "      <th>0</th>\n",
       "      <td>gender</td>\n",
       "      <td>[135.31]</td>\n",
       "      <td>[0.0]</td>\n",
       "    </tr>\n",
       "    <tr>\n",
       "      <th>1</th>\n",
       "      <td>ever_benched</td>\n",
       "      <td>[25.69]</td>\n",
       "      <td>[0.0]</td>\n",
       "    </tr>\n",
       "    <tr>\n",
       "      <th>2</th>\n",
       "      <td>education_Bachelors</td>\n",
       "      <td>[14.69]</td>\n",
       "      <td>[0.0001]</td>\n",
       "    </tr>\n",
       "    <tr>\n",
       "      <th>3</th>\n",
       "      <td>education_Masters</td>\n",
       "      <td>[80.35]</td>\n",
       "      <td>[0.0]</td>\n",
       "    </tr>\n",
       "    <tr>\n",
       "      <th>4</th>\n",
       "      <td>education_PHD</td>\n",
       "      <td>[6.78]</td>\n",
       "      <td>[0.0092]</td>\n",
       "    </tr>\n",
       "    <tr>\n",
       "      <th>5</th>\n",
       "      <td>city_Bangalore</td>\n",
       "      <td>[58.26]</td>\n",
       "      <td>[0.0]</td>\n",
       "    </tr>\n",
       "    <tr>\n",
       "      <th>6</th>\n",
       "      <td>city_New Delhi</td>\n",
       "      <td>[3.89]</td>\n",
       "      <td>[0.0487]</td>\n",
       "    </tr>\n",
       "    <tr>\n",
       "      <th>7</th>\n",
       "      <td>city_Pune</td>\n",
       "      <td>[144.01]</td>\n",
       "      <td>[0.0]</td>\n",
       "    </tr>\n",
       "    <tr>\n",
       "      <th>8</th>\n",
       "      <td>payment_tier_1</td>\n",
       "      <td>[0.54]</td>\n",
       "      <td>[0.4624]</td>\n",
       "    </tr>\n",
       "    <tr>\n",
       "      <th>9</th>\n",
       "      <td>payment_tier_2</td>\n",
       "      <td>[265.12]</td>\n",
       "      <td>[0.0]</td>\n",
       "    </tr>\n",
       "    <tr>\n",
       "      <th>10</th>\n",
       "      <td>payment_tier_3</td>\n",
       "      <td>[72.97]</td>\n",
       "      <td>[0.0]</td>\n",
       "    </tr>\n",
       "  </tbody>\n",
       "</table>\n",
       "</div>"
      ],
      "text/plain": [
       "                feature      chi2   p-value\n",
       "0                gender  [135.31]     [0.0]\n",
       "1          ever_benched   [25.69]     [0.0]\n",
       "2   education_Bachelors   [14.69]  [0.0001]\n",
       "3     education_Masters   [80.35]     [0.0]\n",
       "4         education_PHD    [6.78]  [0.0092]\n",
       "5        city_Bangalore   [58.26]     [0.0]\n",
       "6        city_New Delhi    [3.89]  [0.0487]\n",
       "7             city_Pune  [144.01]     [0.0]\n",
       "8        payment_tier_1    [0.54]  [0.4624]\n",
       "9        payment_tier_2  [265.12]     [0.0]\n",
       "10       payment_tier_3   [72.97]     [0.0]"
      ]
     },
     "execution_count": 39,
     "metadata": {},
     "output_type": "execute_result"
    }
   ],
   "source": [
    "df_chi2 = pd.DataFrame(columns = [\"feature\", \"chi2\", \"p-value\"])\n",
    "for i in cat_col2:\n",
    "    row = {\"feature\":i, \"chi2\": np.round(chi2(df2[i].values.reshape(-1, 1), df2[\"leave\"].values.reshape(-1, 1))[0], 2), \\\n",
    "           \"p-value\":np.round(chi2(df2[i].values.reshape(-1, 1), df2[\"leave\"].values.reshape(-1, 1))[1], 4)}\n",
    "    \n",
    "    df_chi2 = df_chi2.append(row, ignore_index = True)\n",
    "    \n",
    "df_chi2"
   ]
  },
  {
   "cell_type": "markdown",
   "id": "3600b8b5",
   "metadata": {},
   "source": [
    "#### ANOVA for numerical features"
   ]
  },
  {
   "cell_type": "code",
   "execution_count": 40,
   "id": "cc6a087b",
   "metadata": {},
   "outputs": [
    {
     "data": {
      "text/html": [
       "<div>\n",
       "<style scoped>\n",
       "    .dataframe tbody tr th:only-of-type {\n",
       "        vertical-align: middle;\n",
       "    }\n",
       "\n",
       "    .dataframe tbody tr th {\n",
       "        vertical-align: top;\n",
       "    }\n",
       "\n",
       "    .dataframe thead th {\n",
       "        text-align: right;\n",
       "    }\n",
       "</style>\n",
       "<table border=\"1\" class=\"dataframe\">\n",
       "  <thead>\n",
       "    <tr style=\"text-align: right;\">\n",
       "      <th></th>\n",
       "      <th>feature</th>\n",
       "      <th>f-value</th>\n",
       "      <th>p-value</th>\n",
       "    </tr>\n",
       "  </thead>\n",
       "  <tbody>\n",
       "    <tr>\n",
       "      <th>0</th>\n",
       "      <td>age</td>\n",
       "      <td>[12.19]</td>\n",
       "      <td>[0.0005]</td>\n",
       "    </tr>\n",
       "    <tr>\n",
       "      <th>1</th>\n",
       "      <td>experience_current_domain</td>\n",
       "      <td>[4.33]</td>\n",
       "      <td>[0.0375]</td>\n",
       "    </tr>\n",
       "    <tr>\n",
       "      <th>2</th>\n",
       "      <td>time_employed</td>\n",
       "      <td>[158.8]</td>\n",
       "      <td>[0.0]</td>\n",
       "    </tr>\n",
       "  </tbody>\n",
       "</table>\n",
       "</div>"
      ],
      "text/plain": [
       "                     feature  f-value   p-value\n",
       "0                        age  [12.19]  [0.0005]\n",
       "1  experience_current_domain   [4.33]  [0.0375]\n",
       "2              time_employed  [158.8]     [0.0]"
      ]
     },
     "execution_count": 40,
     "metadata": {},
     "output_type": "execute_result"
    }
   ],
   "source": [
    "df_anova = pd.DataFrame(columns = [\"feature\", \"f-value\", \"p-value\"])\n",
    "for i in num_col:\n",
    "    row = {\"feature\":i, \"f-value\": np.round(f_classif(df2[i].values.reshape(-1, 1), df2[\"leave\"].values.reshape(-1, 1))[0], 2), \\\n",
    "           \"p-value\":np.round(f_classif(df2[i].values.reshape(-1, 1), df2[\"leave\"].values.reshape(-1, 1))[1], 4)}\n",
    "    \n",
    "    df_anova = df_anova.append(row, ignore_index = True)\n",
    "    \n",
    "df_anova"
   ]
  },
  {
   "cell_type": "code",
   "execution_count": 41,
   "id": "98abfaf5",
   "metadata": {},
   "outputs": [],
   "source": [
    "df2 = df2.drop([\"experience_current_domain\", \"city_New Delhi\", \"payment_tier_1\"], axis = 1)"
   ]
  },
  {
   "cell_type": "code",
   "execution_count": 42,
   "id": "b4e09b00",
   "metadata": {},
   "outputs": [
    {
     "data": {
      "text/html": [
       "<div>\n",
       "<style scoped>\n",
       "    .dataframe tbody tr th:only-of-type {\n",
       "        vertical-align: middle;\n",
       "    }\n",
       "\n",
       "    .dataframe tbody tr th {\n",
       "        vertical-align: top;\n",
       "    }\n",
       "\n",
       "    .dataframe thead th {\n",
       "        text-align: right;\n",
       "    }\n",
       "</style>\n",
       "<table border=\"1\" class=\"dataframe\">\n",
       "  <thead>\n",
       "    <tr style=\"text-align: right;\">\n",
       "      <th></th>\n",
       "      <th>age</th>\n",
       "      <th>gender</th>\n",
       "      <th>ever_benched</th>\n",
       "      <th>leave</th>\n",
       "      <th>time_employed</th>\n",
       "      <th>education_Bachelors</th>\n",
       "      <th>education_Masters</th>\n",
       "      <th>education_PHD</th>\n",
       "      <th>city_Bangalore</th>\n",
       "      <th>city_Pune</th>\n",
       "      <th>payment_tier_2</th>\n",
       "      <th>payment_tier_3</th>\n",
       "    </tr>\n",
       "  </thead>\n",
       "  <tbody>\n",
       "    <tr>\n",
       "      <th>0</th>\n",
       "      <td>34</td>\n",
       "      <td>0</td>\n",
       "      <td>0</td>\n",
       "      <td>0</td>\n",
       "      <td>1</td>\n",
       "      <td>1.0</td>\n",
       "      <td>0.0</td>\n",
       "      <td>0.0</td>\n",
       "      <td>1.0</td>\n",
       "      <td>0.0</td>\n",
       "      <td>0.0</td>\n",
       "      <td>1.0</td>\n",
       "    </tr>\n",
       "    <tr>\n",
       "      <th>1</th>\n",
       "      <td>28</td>\n",
       "      <td>1</td>\n",
       "      <td>0</td>\n",
       "      <td>1</td>\n",
       "      <td>5</td>\n",
       "      <td>1.0</td>\n",
       "      <td>0.0</td>\n",
       "      <td>0.0</td>\n",
       "      <td>0.0</td>\n",
       "      <td>1.0</td>\n",
       "      <td>0.0</td>\n",
       "      <td>0.0</td>\n",
       "    </tr>\n",
       "    <tr>\n",
       "      <th>2</th>\n",
       "      <td>38</td>\n",
       "      <td>1</td>\n",
       "      <td>0</td>\n",
       "      <td>0</td>\n",
       "      <td>4</td>\n",
       "      <td>1.0</td>\n",
       "      <td>0.0</td>\n",
       "      <td>0.0</td>\n",
       "      <td>0.0</td>\n",
       "      <td>0.0</td>\n",
       "      <td>0.0</td>\n",
       "      <td>1.0</td>\n",
       "    </tr>\n",
       "    <tr>\n",
       "      <th>3</th>\n",
       "      <td>27</td>\n",
       "      <td>0</td>\n",
       "      <td>0</td>\n",
       "      <td>1</td>\n",
       "      <td>2</td>\n",
       "      <td>0.0</td>\n",
       "      <td>1.0</td>\n",
       "      <td>0.0</td>\n",
       "      <td>1.0</td>\n",
       "      <td>0.0</td>\n",
       "      <td>0.0</td>\n",
       "      <td>1.0</td>\n",
       "    </tr>\n",
       "    <tr>\n",
       "      <th>4</th>\n",
       "      <td>24</td>\n",
       "      <td>0</td>\n",
       "      <td>1</td>\n",
       "      <td>1</td>\n",
       "      <td>1</td>\n",
       "      <td>0.0</td>\n",
       "      <td>1.0</td>\n",
       "      <td>0.0</td>\n",
       "      <td>0.0</td>\n",
       "      <td>1.0</td>\n",
       "      <td>0.0</td>\n",
       "      <td>1.0</td>\n",
       "    </tr>\n",
       "  </tbody>\n",
       "</table>\n",
       "</div>"
      ],
      "text/plain": [
       "   age  gender  ever_benched  leave  time_employed  education_Bachelors  \\\n",
       "0   34       0             0      0              1                  1.0   \n",
       "1   28       1             0      1              5                  1.0   \n",
       "2   38       1             0      0              4                  1.0   \n",
       "3   27       0             0      1              2                  0.0   \n",
       "4   24       0             1      1              1                  0.0   \n",
       "\n",
       "   education_Masters  education_PHD  city_Bangalore  city_Pune  \\\n",
       "0                0.0            0.0             1.0        0.0   \n",
       "1                0.0            0.0             0.0        1.0   \n",
       "2                0.0            0.0             0.0        0.0   \n",
       "3                1.0            0.0             1.0        0.0   \n",
       "4                1.0            0.0             0.0        1.0   \n",
       "\n",
       "   payment_tier_2  payment_tier_3  \n",
       "0             0.0             1.0  \n",
       "1             0.0             0.0  \n",
       "2             0.0             1.0  \n",
       "3             0.0             1.0  \n",
       "4             0.0             1.0  "
      ]
     },
     "execution_count": 42,
     "metadata": {},
     "output_type": "execute_result"
    }
   ],
   "source": [
    "df2.head()"
   ]
  },
  {
   "cell_type": "markdown",
   "id": "254e1df5",
   "metadata": {},
   "source": [
    "### 4.1.4 Dividing train / test\n",
    "\n",
    "Spliting the dataset in train and test."
   ]
  },
  {
   "cell_type": "code",
   "execution_count": 43,
   "id": "e86b173d",
   "metadata": {},
   "outputs": [],
   "source": [
    "X = df2.drop(\"leave\", axis = 1)\n",
    "y = df2[\"leave\"]\n",
    "\n",
    "Xtrain, Xtest, ytrain, ytest = train_test_split(X, y, test_size = 0.20, random_state = 11)"
   ]
  },
  {
   "cell_type": "markdown",
   "id": "b120eb01",
   "metadata": {},
   "source": [
    "### 4.1.5 Dealing with imbalanced data\n",
    "\n",
    "To balance the target variable we will use an algorithm of oversampling, SVMSmote, this algorithm will create synthetic observations based on the observations that already exists."
   ]
  },
  {
   "cell_type": "code",
   "execution_count": 44,
   "id": "78c1a39b",
   "metadata": {},
   "outputs": [],
   "source": [
    "sm = SVMSMOTE(k_neighbors = 4)\n",
    "Xtrain_res, ytrain_res = sm.fit_resample(Xtrain, ytrain)"
   ]
  },
  {
   "cell_type": "markdown",
   "id": "bcc09e33",
   "metadata": {},
   "source": [
    "## 4.2 Modeling\n",
    "\n",
    "### 4.2.1 LogisticRegression"
   ]
  },
  {
   "cell_type": "code",
   "execution_count": 45,
   "id": "fe4c21ec",
   "metadata": {},
   "outputs": [
    {
     "data": {
      "text/plain": [
       "LogisticRegression(class_weight='balanced')"
      ]
     },
     "execution_count": 45,
     "metadata": {},
     "output_type": "execute_result"
    }
   ],
   "source": [
    "logreg = LogisticRegression(class_weight = \"balanced\")\n",
    "logreg.fit(Xtrain, ytrain)"
   ]
  },
  {
   "cell_type": "code",
   "execution_count": 46,
   "id": "61d6f724",
   "metadata": {},
   "outputs": [],
   "source": [
    "evaluation = pd.DataFrame(columns = [\"Modelo\", \"BalancedAc(treino)\", \"BalancedAc(Cross Val.)\", \"f1(treino)\", \"f1(Cross Val.)\"])\n",
    "\n",
    "model1_row = model_evaluation(Xtrain, ytrain, logreg, \"Log.Regression\")\n",
    "\n",
    "evaluation = evaluation.append(model1_row, ignore_index = True)"
   ]
  },
  {
   "cell_type": "code",
   "execution_count": 47,
   "id": "1cded219",
   "metadata": {},
   "outputs": [
    {
     "data": {
      "text/html": [
       "<div>\n",
       "<style scoped>\n",
       "    .dataframe tbody tr th:only-of-type {\n",
       "        vertical-align: middle;\n",
       "    }\n",
       "\n",
       "    .dataframe tbody tr th {\n",
       "        vertical-align: top;\n",
       "    }\n",
       "\n",
       "    .dataframe thead th {\n",
       "        text-align: right;\n",
       "    }\n",
       "</style>\n",
       "<table border=\"1\" class=\"dataframe\">\n",
       "  <thead>\n",
       "    <tr style=\"text-align: right;\">\n",
       "      <th></th>\n",
       "      <th>Modelo</th>\n",
       "      <th>BalancedAc(treino)</th>\n",
       "      <th>BalancedAc(Cross Val.)</th>\n",
       "      <th>f1(treino)</th>\n",
       "      <th>f1(Cross Val.)</th>\n",
       "    </tr>\n",
       "  </thead>\n",
       "  <tbody>\n",
       "    <tr>\n",
       "      <th>0</th>\n",
       "      <td>Log.Regression</td>\n",
       "      <td>0.69</td>\n",
       "      <td>0.69</td>\n",
       "      <td>0.59</td>\n",
       "      <td>0.59</td>\n",
       "    </tr>\n",
       "  </tbody>\n",
       "</table>\n",
       "</div>"
      ],
      "text/plain": [
       "           Modelo  BalancedAc(treino)  BalancedAc(Cross Val.)  f1(treino)  \\\n",
       "0  Log.Regression                0.69                    0.69        0.59   \n",
       "\n",
       "   f1(Cross Val.)  \n",
       "0            0.59  "
      ]
     },
     "execution_count": 47,
     "metadata": {},
     "output_type": "execute_result"
    }
   ],
   "source": [
    "evaluation"
   ]
  },
  {
   "cell_type": "markdown",
   "id": "66521b65",
   "metadata": {},
   "source": [
    "### 4.2.2 KNeighbors"
   ]
  },
  {
   "cell_type": "code",
   "execution_count": 47,
   "id": "92ac4ee5",
   "metadata": {},
   "outputs": [
    {
     "name": "stdout",
     "output_type": "stream",
     "text": [
      "Melhores parâmetros: OrderedDict([('n_neighbors', 6), ('weights', 'distance')])\n",
      "\n",
      "Melhor score: 0.7668377083501745\n"
     ]
    }
   ],
   "source": [
    "knn = KNeighborsClassifier()\n",
    "params = {\"n_neighbors\": Integer(1, 34),\n",
    "          \"weights\": Categorical([\"uniform\", \"distance\"])}\n",
    "\n",
    "bayes_search(Xtrain, ytrain, params, knn, \"balanced_accuracy\", n_folds = 5)"
   ]
  },
  {
   "cell_type": "code",
   "execution_count": 49,
   "id": "436a845c",
   "metadata": {},
   "outputs": [
    {
     "data": {
      "text/html": [
       "<div>\n",
       "<style scoped>\n",
       "    .dataframe tbody tr th:only-of-type {\n",
       "        vertical-align: middle;\n",
       "    }\n",
       "\n",
       "    .dataframe tbody tr th {\n",
       "        vertical-align: top;\n",
       "    }\n",
       "\n",
       "    .dataframe thead th {\n",
       "        text-align: right;\n",
       "    }\n",
       "</style>\n",
       "<table border=\"1\" class=\"dataframe\">\n",
       "  <thead>\n",
       "    <tr style=\"text-align: right;\">\n",
       "      <th></th>\n",
       "      <th>Modelo</th>\n",
       "      <th>BalancedAc(treino)</th>\n",
       "      <th>BalancedAc(Cross Val.)</th>\n",
       "      <th>f1(treino)</th>\n",
       "      <th>f1(Cross Val.)</th>\n",
       "    </tr>\n",
       "  </thead>\n",
       "  <tbody>\n",
       "    <tr>\n",
       "      <th>0</th>\n",
       "      <td>Log.Regression</td>\n",
       "      <td>0.69</td>\n",
       "      <td>0.69</td>\n",
       "      <td>0.59</td>\n",
       "      <td>0.59</td>\n",
       "    </tr>\n",
       "    <tr>\n",
       "      <th>1</th>\n",
       "      <td>RandomForest</td>\n",
       "      <td>0.83</td>\n",
       "      <td>0.81</td>\n",
       "      <td>0.78</td>\n",
       "      <td>0.76</td>\n",
       "    </tr>\n",
       "    <tr>\n",
       "      <th>2</th>\n",
       "      <td>Knn</td>\n",
       "      <td>0.87</td>\n",
       "      <td>0.76</td>\n",
       "      <td>0.85</td>\n",
       "      <td>0.68</td>\n",
       "    </tr>\n",
       "  </tbody>\n",
       "</table>\n",
       "</div>"
      ],
      "text/plain": [
       "           Modelo  BalancedAc(treino)  BalancedAc(Cross Val.)  f1(treino)  \\\n",
       "0  Log.Regression                0.69                    0.69        0.59   \n",
       "1    RandomForest                0.83                    0.81        0.78   \n",
       "2             Knn                0.87                    0.76        0.85   \n",
       "\n",
       "   f1(Cross Val.)  \n",
       "0            0.59  \n",
       "1            0.76  \n",
       "2            0.68  "
      ]
     },
     "execution_count": 49,
     "metadata": {},
     "output_type": "execute_result"
    }
   ],
   "source": [
    "knn = KNeighborsClassifier(n_neighbors = 10, weights = \"distance\")\n",
    "knn.fit(Xtrain, ytrain)\n",
    "\n",
    "model2_row = model_evaluation(Xtrain, ytrain, knn, \"Knn\")\n",
    "\n",
    "evaluation = evaluation.append(model2_row, ignore_index = True)\n",
    "evaluation"
   ]
  },
  {
   "cell_type": "markdown",
   "id": "5ab5060f",
   "metadata": {},
   "source": [
    "### 4.2.3 RandomForest"
   ]
  },
  {
   "cell_type": "code",
   "execution_count": 49,
   "id": "433d887e",
   "metadata": {},
   "outputs": [
    {
     "name": "stdout",
     "output_type": "stream",
     "text": [
      "Melhores parâmetros: OrderedDict([('criterion', 'entropy'), ('max_features', 'sqrt'), ('min_samples_split', 0.01)])\n",
      "\n",
      "Melhor score: 0.8157412764486779\n"
     ]
    }
   ],
   "source": [
    "forest = RandomForestClassifier(random_state = 11, class_weight= \"balanced\")\n",
    "params = {\"min_samples_split\": Real(0.01, 0.5),\n",
    "          \"max_features\": Categorical([\"sqrt\", \"log2\"]),\n",
    "          \"criterion\": Categorical([\"gini\", \"entropy\"])}\n",
    "\n",
    "bayes_search(Xtrain, ytrain, params, forest, \"balanced_accuracy\", n_folds = 5)"
   ]
  },
  {
   "cell_type": "code",
   "execution_count": 48,
   "id": "cd0f42c3",
   "metadata": {},
   "outputs": [
    {
     "data": {
      "text/html": [
       "<div>\n",
       "<style scoped>\n",
       "    .dataframe tbody tr th:only-of-type {\n",
       "        vertical-align: middle;\n",
       "    }\n",
       "\n",
       "    .dataframe tbody tr th {\n",
       "        vertical-align: top;\n",
       "    }\n",
       "\n",
       "    .dataframe thead th {\n",
       "        text-align: right;\n",
       "    }\n",
       "</style>\n",
       "<table border=\"1\" class=\"dataframe\">\n",
       "  <thead>\n",
       "    <tr style=\"text-align: right;\">\n",
       "      <th></th>\n",
       "      <th>Modelo</th>\n",
       "      <th>BalancedAc(treino)</th>\n",
       "      <th>BalancedAc(Cross Val.)</th>\n",
       "      <th>f1(treino)</th>\n",
       "      <th>f1(Cross Val.)</th>\n",
       "    </tr>\n",
       "  </thead>\n",
       "  <tbody>\n",
       "    <tr>\n",
       "      <th>0</th>\n",
       "      <td>Log.Regression</td>\n",
       "      <td>0.69</td>\n",
       "      <td>0.69</td>\n",
       "      <td>0.59</td>\n",
       "      <td>0.59</td>\n",
       "    </tr>\n",
       "    <tr>\n",
       "      <th>1</th>\n",
       "      <td>RandomForest</td>\n",
       "      <td>0.83</td>\n",
       "      <td>0.81</td>\n",
       "      <td>0.78</td>\n",
       "      <td>0.76</td>\n",
       "    </tr>\n",
       "  </tbody>\n",
       "</table>\n",
       "</div>"
      ],
      "text/plain": [
       "           Modelo  BalancedAc(treino)  BalancedAc(Cross Val.)  f1(treino)  \\\n",
       "0  Log.Regression                0.69                    0.69        0.59   \n",
       "1    RandomForest                0.83                    0.81        0.78   \n",
       "\n",
       "   f1(Cross Val.)  \n",
       "0            0.59  \n",
       "1            0.76  "
      ]
     },
     "execution_count": 48,
     "metadata": {},
     "output_type": "execute_result"
    }
   ],
   "source": [
    "forest = RandomForestClassifier(random_state = 11, class_weight = \"balanced\", min_samples_split = 0.01, n_estimators = 1000)\n",
    "forest.fit(Xtrain, ytrain)\n",
    "\n",
    "model3_row = model_evaluation(Xtrain, ytrain, forest, \"RandomForest\")\n",
    "\n",
    "evaluation = evaluation.append(model3_row, ignore_index = True)\n",
    "evaluation"
   ]
  },
  {
   "cell_type": "markdown",
   "id": "72f8b30d",
   "metadata": {},
   "source": [
    "## 4.3 Model evaluation on test\n",
    "\n",
    "It can be seen that the best model was the Random Forest. We will now evaluate this model with the test dataset."
   ]
  },
  {
   "cell_type": "code",
   "execution_count": 50,
   "id": "6c4244a3",
   "metadata": {},
   "outputs": [
    {
     "data": {
      "text/plain": [
       "RandomForestClassifier(class_weight='balanced', min_samples_split=0.01,\n",
       "                       n_estimators=1000, random_state=11)"
      ]
     },
     "execution_count": 50,
     "metadata": {},
     "output_type": "execute_result"
    }
   ],
   "source": [
    "final_model = RandomForestClassifier(random_state = 11, class_weight = \"balanced\", min_samples_split = 0.01, n_estimators = 1000)\n",
    "final_model.fit(Xtrain, ytrain)"
   ]
  },
  {
   "cell_type": "code",
   "execution_count": 52,
   "id": "cb24b11c",
   "metadata": {},
   "outputs": [
    {
     "data": {
      "text/plain": [
       "{'balanced_accuracy_score': 0.8320501184893864,\n",
       " 'f1_score': 0.7856025039123631,\n",
       " 'recall_score': 0.7606060606060606,\n",
       " 'precision_score': 0.8122977346278317,\n",
       " 'roc_auc_score': 0.889013260727071}"
      ]
     },
     "execution_count": 52,
     "metadata": {},
     "output_type": "execute_result"
    }
   ],
   "source": [
    "metrics = [balanced_accuracy_score, f1_score, recall_score, precision_score, roc_auc_score]\n",
    "metric_grid = {}\n",
    "\n",
    "for i in metrics:\n",
    "    if i == roc_auc_score:\n",
    "        metric_grid[str(metrics[metrics.index(i)]).split(' ')[1]] = i(y_true = ytest, y_score = final_model.predict_proba(Xtest)[:, 1])\n",
    "    else:\n",
    "        metric_grid[str(metrics[metrics.index(i)]).split(' ')[1]] = i(y_true = ytest, y_pred = final_model.predict(Xtest))\n",
    "        \n",
    "metric_grid"
   ]
  },
  {
   "cell_type": "markdown",
   "id": "6ada8eed",
   "metadata": {},
   "source": [
    "# 5. Conclusion\n",
    "\n",
    "## 5.1 Relevant features of who left the company\n",
    "\n",
    "First, human resources can use the insights below about employees to make the best decision.\n",
    "\n",
    "- **Female employees.**\n",
    "- **Employees who ever benched.**\n",
    "- **Emplooyes with less time into the company.**\n",
    "- **Employees with Master Degree.**\n",
    "- **Employees from Pune.**\n",
    "- **Employees with medium payment values.**"
   ]
  },
  {
   "cell_type": "markdown",
   "id": "82dc482e",
   "metadata": {},
   "source": [
    "## 5.2 Using the model\n",
    "\n",
    "The human resources area can use the classification model developed here to predict whether an employee will leave the company. The model will be made available by the Machine Learning engineering team on a web API for easy use by HR managers.\n",
    "\n",
    "Our final model can predict if a employee will left the company in the next two years with a recall of 76%.\n",
    "\n",
    "**This means that for all the employees that will definitively left the company, our model predict correctly 76% of they all.**"
   ]
  },
  {
   "cell_type": "code",
   "execution_count": 59,
   "id": "1f255aaf",
   "metadata": {},
   "outputs": [
    {
     "data": {
      "image/png": "[encoded data removed]",
      "text/plain": [
       "<Figure size 720x360 with 2 Axes>"
      ]
     },
     "metadata": {
      "needs_background": "light"
     },
     "output_type": "display_data"
    }
   ],
   "source": [
    "plt.figure(figsize = [10,5])\n",
    "sns.heatmap(confusion_matrix(y_true = ytest, y_pred = final_model.predict(Xtest)), annot = True)\n",
    "plt.title(\"Confusion Matrix\", fontsize = 14)\n",
    "plt.show()"
   ]
  },
  {
   "cell_type": "code",
   "execution_count": 61,
   "id": "e3ce5ce6",
   "metadata": {},
   "outputs": [
    {
     "data": {
      "text/plain": [
       "array([[543,  58],\n",
       "       [ 79, 251]], dtype=int64)"
      ]
     },
     "execution_count": 61,
     "metadata": {},
     "output_type": "execute_result"
    }
   ],
   "source": [
    "confusion_matrix(y_true = ytest, y_pred = final_model.predict(Xtest))"
   ]
  },
  {
   "cell_type": "markdown",
   "id": "3b456412",
   "metadata": {},
   "source": [
    "Here in the confusion matrix, we see that for 330 employees that left the company, the model predict correctly 251."
   ]
  },
  {
   "cell_type": "code",
   "execution_count": 51,
   "id": "48515f7f",
   "metadata": {},
   "outputs": [],
   "source": [
    "pickle.dump(final_model, open(\"employee_future_model.pkl\", \"wb\"))"
   ]
  }
 ],
 "metadata": {
  "kernelspec": {
   "display_name": "Python 3",
   "language": "python",
   "name": "python3"
  },
  "language_info": {
   "codemirror_mode": {
    "name": "ipython",
    "version": 3
   },
   "file_extension": ".py",
   "mimetype": "text/x-python",
   "name": "python",
   "nbconvert_exporter": "python",
   "pygments_lexer": "ipython3",
   "version": "3.8.8"
  }
 },
 "nbformat": 4,
 "nbformat_minor": 5
}
